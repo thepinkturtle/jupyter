{
 "cells": [
  {
   "cell_type": "code",
   "execution_count": 1,
   "metadata": {},
   "outputs": [],
   "source": [
    "#Data \n",
    "revenue = [14574.49, 7606.46, 8611.41, 9175.41, 8058.65, 8105.44, 11496.28, 9766.09, 10305.32, 14379.96, 10713.97, 15433.50]\n",
    "expenses = [12051.82, 5695.07, 12319.20, 12089.72, 8658.57, 840.20, 3285.73, 5821.12, 6976.93, 16618.61, 10054.37, 3803.96]"
   ]
  },
  {
   "cell_type": "code",
   "execution_count": 5,
   "metadata": {},
   "outputs": [
    {
     "name": "stdout",
     "output_type": "stream",
     "text": [
      "Profit for each month:  [ 2523.  1911. -3708. -2914.  -600.  7265.  8211.  3945.  3328. -2239.\n",
      "   660. 11630.]\n",
      "Profit margin after tax:  [ 1766.  1338. -2595. -2040.  -420.  5086.  5747.  2761.  2330. -1567.\n",
      "   462.  8141.]\n",
      "Profit margin:  [ 12.12  17.59 -30.14 -22.23  -5.21  62.74  49.99  28.28  22.61 -10.9\n",
      "   4.31  52.75]\n",
      "Good months:  [1766. 1338. 5086. 5747. 2761. 2330.  462. 8141.]\n",
      "Bad months:  [-2595. -2040.  -420. -1567.]\n",
      "Best month:  8141.0\n",
      "Worst month:  1766.0\n"
     ]
    }
   ],
   "source": [
    "import numpy as np\n",
    "\n",
    "count = 0\n",
    "profit_each_month = {}\n",
    "profit_tax_month = {}\n",
    "profit_margin = {}\n",
    "good_months = {}\n",
    "bad_months = {}\n",
    "\n",
    "while count < len(revenue):\n",
    "    profit_each_month[count] = (revenue[count] - expenses[count])\n",
    "    profit_tax_month[count] = profit_each_month[count] - (profit_each_month[count] * .30)\n",
    "    profit_margin[count] = profit_tax_month[count] / revenue[count]\n",
    "    count = count + 1\n",
    "\n",
    "mean = np.mean(list(profit_tax_month))\n",
    "count = 0\n",
    " \n",
    "while count < len(profit_tax_month):\n",
    "    profit = profit_tax_month[count]\n",
    "    if(profit > mean):\n",
    "        good_months[count] = profit\n",
    "    else:\n",
    "        bad_months[count] = profit\n",
    "    count = count + 1\n",
    "\n",
    "print(\"Profit for each month: \", np.round(list(profit_each_month.values())))\n",
    "print(\"Profit margin after tax: \", np.round(list(profit_tax_month.values())))\n",
    "print(\"Profit margin: \", np.round(list(profit_margin.values()),4)*100)\n",
    "print(\"Good months: \" ,np.round(list(good_months.values())))   \n",
    "print(\"Bad months: \" ,np.round(list(bad_months.values())))\n",
    "print(\"Best month: \", np.round(profit_tax_month[np.max(list(profit_tax_month))]))\n",
    "print(\"Worst month: \", np.round(profit_tax_month[np.min(list(profit_tax_month))]))\n",
    "\n"
   ]
  },
  {
   "cell_type": "code",
   "execution_count": null,
   "metadata": {},
   "outputs": [],
   "source": []
  }
 ],
 "metadata": {
  "kernelspec": {
   "display_name": "Python 3",
   "language": "python",
   "name": "python3"
  },
  "language_info": {
   "codemirror_mode": {
    "name": "ipython",
    "version": 3
   },
   "file_extension": ".py",
   "mimetype": "text/x-python",
   "name": "python",
   "nbconvert_exporter": "python",
   "pygments_lexer": "ipython3",
   "version": "3.7.3"
  }
 },
 "nbformat": 4,
 "nbformat_minor": 1
}
