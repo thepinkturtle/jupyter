{
  "nbformat_minor": 1,
  "nbformat": 4,
  "cells": [
    {
      "cell_type": "code",
      "execution_count": 25,
      "metadata": {},
      "outputs": [],
      "source": [
        "# AutoEncoders\n",
        "\n",
        "# Importing the libraries\n",
        "import numpy as np\n",
        "import pandas as pd\n",
        "import torch\n",
        "import torch.nn as nn\n",
        "import torch.nn.parallel\n",
        "import torch.optim as optim\n",
        "import torch.utils.data\n",
        "from torch.autograd import Variable\n",
        "\n",
        "# Importing the dataset\n",
        "movies = pd.read_csv('ml-1m/movies.dat', sep = '::', header = None, engine = 'python', encoding = 'latin-1')\n",
        "users = pd.read_csv('ml-1m/users.dat', sep = '::', header = None, engine = 'python', encoding = 'latin-1')\n",
        "ratings = pd.read_csv('ml-1m/ratings.dat', sep = '::', header = None, engine = 'python', encoding = 'latin-1')\n",
        "\n",
        "# Preparing the training set and the test set\n",
        "training_set = np.array(pd.read_csv('ml-100k/u1.base', delimiter='\\t'), dtype=int)\n",
        "test_set = np.array(pd.read_csv('ml-100k/u1.test', delimiter='\\t'), dtype=int)\n",
        "\n",
        "# Getting the number of users and movies\n",
        "nb_users = int(max(max(training_set[:,0]), max(test_set[:,0]))) # must check both traing and test set for max number\n",
        "nb_movies = int(max(max(training_set[:,1]), max(test_set[:,1])))# must check both traing and test set for max number\n",
        "\n",
        "\n",
        "# create the matrix of users = lines/rows and movies = col/features\n",
        "def convert(data):\n",
        "    new_data = []\n",
        "    for id_users in range(1,nb_users + 1):\n",
        "        id_movies = data[:,1][data[:,0] == id_users ] # get all the movies by the user_id\n",
        "        id_rating = data[:,2][data[:,0] == id_users ] # get all the rating by the user_id\n",
        "        ratings = np.zeros(nb_movies)\n",
        "        ratings[id_movies - 1] = id_rating\n",
        "        new_data.append(list(ratings))\n",
        "    return new_data\n",
        "\n",
        "# convert and change to Torch Tensors\n",
        "training_set = torch.FloatTensor(convert(training_set))\n",
        "test_set = torch.FloatTensor(convert(test_set))"
      ]
    },
    {
      "cell_type": "code",
      "execution_count": null,
      "metadata": {},
      "outputs": [],
      "source": []
    }
  ],
  "metadata": {
    "kernelspec": {
      "display_name": "Python 3",
      "name": "python3",
      "language": "python"
    },
    "language_info": {
      "mimetype": "text/x-python",
      "nbconvert_exporter": "python",
      "name": "python",
      "file_extension": ".py",
      "version": "3.6.8-final",
      "pygments_lexer": "ipython3",
      "codemirror_mode": {
        "version": 3,
        "name": "ipython"
      }
    },
    "anaconda-cloud": {}
  }
}