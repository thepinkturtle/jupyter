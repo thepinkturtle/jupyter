{
  "nbformat_minor": 1, 
  "nbformat": 4, 
  "cells": [
    {
      "source": [
        "import numpy as np\n", 
        "import matplotlib.pyplot as plt\n", 
        "import pandas as pd\n", 
        "import os\n", 
        "\n", 
        "dataset = pd.read_csv(os.getcwd() + '/Mall_Customers.csv')\n", 
        "X = dataset.iloc[:,[3,4]].values\n", 
        "\n", 
        "import scipy.cluster.hierarchy as sch\n", 
        "from matplotlib.pyplot import figure\n", 
        "figure(figsize=(20,10))\n", 
        "\n", 
        "dendrogram = sch.dendrogram(sch.linkage(X, method='ward'))\n", 
        "plt.title(\"Dendrogram\")\n", 
        "plt.xlabel(\"Customers\")\n", 
        "plt.ylabel(\"Euclidean distances\")\n", 
        "plt.show()\n", 
        "\n", 
        "from sklearn.cluster import AgglomerativeClustering\n", 
        "hc = AgglomerativeClustering(n_clusters=5, affinity='euclidean', linkage='ward')\n", 
        "y_hc = hc.fit_predict(X)\n", 
        "\n", 
        "# visualizing the clusters\n", 
        "figure(figsize=(20,10))\n", 
        "plt.scatter(np.array(X[y_hc == 0])[:,0], np.array(X[y_hc == 0])[:,1], s = 100, c = 'red', label='Careful')\n", 
        "plt.scatter(np.array(X[y_hc == 1])[:,0], np.array(X[y_hc == 1])[:,1], s = 100, c = 'blue', label='Standard')\n", 
        "plt.scatter(np.array(X[y_hc == 2])[:,0], np.array(X[y_hc == 2])[:,1], s = 100, c = 'green', label='Target')\n", 
        "plt.scatter(np.array(X[y_hc == 3])[:,0], np.array(X[y_hc == 3])[:,1], s = 100, c = 'cyan', label='Careless')\n", 
        "plt.scatter(np.array(X[y_hc == 4])[:,0], np.array(X[y_hc == 4])[:,1], s = 100, c = 'magenta', label='Sensible')\n", 
        "\n", 
        "plt.title(\"Clusters of clients\")\n", 
        "plt.xlabel(\"Annual Income (k$)\")\n", 
        "plt.ylabel(\"Spending Score (1-100)\")\n", 
        "plt.legend()\n", 
        "plt.show()"
      ], 
      "cell_type": "code", 
      "execution_count": null, 
      "outputs": [], 
      "metadata": {}
    }
  ], 
  "metadata": {
    "kernelspec": {
      "display_name": "Python 3", 
      "name": "python3", 
      "language": "python"
    }, 
    "language_info": {
      "mimetype": "text/x-python", 
      "nbconvert_exporter": "python", 
      "name": "python", 
      "file_extension": ".py", 
      "version": "3.6.1", 
      "pygments_lexer": "ipython3", 
      "codemirror_mode": {
        "version": 3, 
        "name": "ipython"
      }
    }, 
    "anaconda-cloud": {}
  }
}
