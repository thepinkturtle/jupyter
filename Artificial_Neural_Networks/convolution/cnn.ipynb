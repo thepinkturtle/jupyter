{
 "cells": [
  {
   "cell_type": "code",
   "execution_count": 96,
   "metadata": {},
   "outputs": [],
<<<<<<< HEAD
   "source": []
  },
  {
   "cell_type": "code",
   "execution_count": 37,
   "metadata": {},
   "outputs": [],
=======
>>>>>>> 1359006118f28de7d3bfcd91b433264ddabe6874
   "source": [
    "# To add a new cell, type '# %%'\n",
    "# To add a new markdown cell, type '# %% [markdown]'\n",
    "# %%\n",
    "from keras.models import Sequential\n",
    "from keras.layers import Convolution2D\n",
    "from keras.layers import MaxPooling2D\n",
    "from keras.layers import Flatten\n",
    "from keras.layers import Dense\n",
<<<<<<< HEAD
    "from keras.models import save_model\n",
=======
    "from keras.models import load_model\n",
>>>>>>> 1359006118f28de7d3bfcd91b433264ddabe6874
    "import os\n"
   ]
  },
  {
   "cell_type": "code",
<<<<<<< HEAD
   "execution_count": 24,
=======
   "execution_count": 84,
>>>>>>> 1359006118f28de7d3bfcd91b433264ddabe6874
   "metadata": {},
   "outputs": [],
   "source": [
    "classifier = Sequential()\n",
    "classifier.add(Convolution2D(32, 3, 3, input_shape= (64, 64, 3), activation='relu'))\n",
    "classifier.add(MaxPooling2D(pool_size=(2, 2)))\n",
    "\n",
    "# Add a second convolutional layer, and you don't need an input shape parameter because Keras already knows from the previous set\n",
    "classifier.add(Convolution2D(32, 3, 3, activation='relu')) \n",
    "classifier.add(MaxPooling2D(pool_size=(2, 2)))\n",
    "\n",
    "classifier.add(Flatten())\n",
    "classifier.add(Dense(output_dim= 128, activation='relu'))\n",
    "classifier.add(Dense(output_dim= 1, activation='sigmoid'))\n",
    "classifier.compile(optimizer='adam', loss='binary_crossentropy', metrics=['accuracy'])\n"
   ]
  },
  {
   "cell_type": "code",
<<<<<<< HEAD
   "execution_count": 25,
=======
   "execution_count": 3,
>>>>>>> 1359006118f28de7d3bfcd91b433264ddabe6874
   "metadata": {},
   "outputs": [],
   "source": [
    "cwd = '/home/devinlax/jupyter/Artificial_Neural_Networks/convolution/dataset/'\n",
    "\n",
    "from keras.preprocessing.image import ImageDataGenerator\n",
    "\n",
    "train_datagen = ImageDataGenerator(\n",
    "        rescale=1./255,\n",
    "        shear_range=0.2,\n",
    "        zoom_range=0.2,\n",
    "        horizontal_flip=True)\n",
    "\n",
    "test_datagen = ImageDataGenerator(rescale=1./255)\n"
   ]
  },
  {
   "cell_type": "code",
<<<<<<< HEAD
   "execution_count": 26,
=======
   "execution_count": 4,
>>>>>>> 1359006118f28de7d3bfcd91b433264ddabe6874
   "metadata": {},
   "outputs": [
    {
     "name": "stdout",
     "output_type": "stream",
     "text": "Found 8000 images belonging to 2 classes.\n"
    }
   ],
   "source": [
    "training_set = train_datagen.flow_from_directory(\n",
    "        os.getcwd() + '/dataset/training_set',\n",
    "        target_size=(64, 64),\n",
    "        batch_size=32,\n",
    "        class_mode='binary')\n"
   ]
  },
  {
   "cell_type": "code",
<<<<<<< HEAD
   "execution_count": 27,
=======
   "execution_count": 5,
>>>>>>> 1359006118f28de7d3bfcd91b433264ddabe6874
   "metadata": {},
   "outputs": [
    {
     "name": "stdout",
     "output_type": "stream",
<<<<<<< HEAD
     "text": "Found 2000 images belonging to 2 classes.\n"
=======
     "text": "Found 8000 images belonging to 2 classes.\n"
>>>>>>> 1359006118f28de7d3bfcd91b433264ddabe6874
    }
   ],
   "source": [
    "\n",
    "test_set = test_datagen.flow_from_directory(\n",
    "        os.getcwd() + '/dataset/training_set',\n",
    "        target_size=(64, 64),\n",
    "        batch_size=32,\n",
    "        class_mode='binary')\n"
   ]
  },
  {
   "cell_type": "code",
   "execution_count": 31,
   "metadata": {},
   "outputs": [
    {
     "name": "stdout",
     "output_type": "stream",
<<<<<<< HEAD
     "text": "Epoch 1/10\n7999/8000 [============================>.] - ETA: 0s - loss: 0.1161 - accuracy: 0.9553Epoch 1/10\n8000/8000 [==============================] - 627s 78ms/step - loss: 0.1160 - accuracy: 0.9553 - val_loss: 0.0691 - val_accuracy: 0.8141\nEpoch 2/10\n8000/8000 [==============================] - 630s 79ms/step - loss: 0.0596 - accuracy: 0.9786 - val_loss: 1.5007 - val_accuracy: 0.8103\nEpoch 3/10\n8000/8000 [==============================] - 633s 79ms/step - loss: 0.0428 - accuracy: 0.9848 - val_loss: 0.9392 - val_accuracy: 0.8111\nEpoch 4/10\n8000/8000 [==============================] - 634s 79ms/step - loss: 0.0336 - accuracy: 0.9885 - val_loss: 0.6498 - val_accuracy: 0.8004\nEpoch 5/10\n8000/8000 [==============================] - 632s 79ms/step - loss: 0.0276 - accuracy: 0.9907 - val_loss: 0.8132 - val_accuracy: 0.8111\nEpoch 6/10\n8000/8000 [==============================] - 632s 79ms/step - loss: 0.0243 - accuracy: 0.9917 - val_loss: 1.3481 - val_accuracy: 0.8075\nEpoch 7/10\n8000/8000 [==============================] - 631s 79ms/step - loss: 0.0208 - accuracy: 0.9928 - val_loss: 1.9710 - val_accuracy: 0.8014\nEpoch 8/10\n8000/8000 [==============================] - 632s 79ms/step - loss: 0.0186 - accuracy: 0.9938 - val_loss: 3.0069 - val_accuracy: 0.8065\nEpoch 9/10\n8000/8000 [==============================] - 631s 79ms/step - loss: 0.0175 - accuracy: 0.9944 - val_loss: 2.6433 - val_accuracy: 0.7970\nEpoch 10/10\n8000/8000 [==============================] - 633s 79ms/step - loss: 0.0156 - accuracy: 0.9950 - val_loss: 0.9058 - val_accuracy: 0.7956\n"
    },
    {
     "data": {
      "text/plain": "<keras.callbacks.callbacks.History at 0x7fd8adad3f60>"
=======
     "text": "Epoch 1/4\n8000/8000 [==============================] - 1716s 215ms/step - loss: 0.0514 - accuracy: 0.9819 - val_loss: 0.0012 - val_accuracy: 0.9959\nEpoch 2/4\n8000/8000 [==============================] - 1793s 224ms/step - loss: 0.0376 - accuracy: 0.9870 - val_loss: 6.6471e-04 - val_accuracy: 0.9967\nEpoch 3/4\n8000/8000 [==============================] - 1773s 222ms/step - loss: 0.0295 - accuracy: 0.9901 - val_loss: 0.0538 - val_accuracy: 0.9950\nEpoch 4/4\n7999/8000 [============================>.] - ETA: 0s - loss: 0.0254 - accuracy: 0.9915Epoch 4/4\n8000/8000 [==============================] - 1768s 221ms/step - loss: 0.0254 - accuracy: 0.9915 - val_loss: 0.0030 - val_accuracy: 0.9980\n"
    },
    {
     "data": {
      "text/plain": "<keras.callbacks.callbacks.History at 0x7f3d31a65c50>"
>>>>>>> 1359006118f28de7d3bfcd91b433264ddabe6874
     },
     "execution_count": 31,
     "metadata": {},
     "output_type": "execute_result"
    }
   ],
   "source": [
    "classifier.fit_generator(\n",
    "        training_set,\n",
    "        steps_per_epoch=8000,\n",
<<<<<<< HEAD
    "        epochs=10,\n",
    "        validation_data=test_set,\n",
    "        validation_steps=2000,\n",
    "        workers=8,\n",
    "        use_multiprocessing=True)\n"
=======
    "        epochs=4,\n",
    "        validation_data=test_set,\n",
    "        validation_steps=2000,\n",
    "        use_multiprocessing=True,\n",
    "        workers=4)\n"
>>>>>>> 1359006118f28de7d3bfcd91b433264ddabe6874
   ]
  },
  {
   "cell_type": "code",
<<<<<<< HEAD
   "execution_count": 41,
   "metadata": {},
   "outputs": [],
   "source": [
    "classifier.save_weights('dog_cat_cnn.h5') # Save the model for later use\n",
    "classifier.save('dog_cat_model.h5')"
=======
   "execution_count": 97,
   "metadata": {},
   "outputs": [],
   "source": [
    "classifier.save_weights('dog_cat_cnn.h5')\n",
    "classifier.save('dog_cat_model')\n"
   ]
  },
  {
   "cell_type": "code",
   "execution_count": 116,
   "metadata": {},
   "outputs": [],
   "source": [
    "\n",
    "# classifier.load_weights('dog_cat_cnn.h5')\n",
    "model = load_model('dog_cat_model')"
>>>>>>> 1359006118f28de7d3bfcd91b433264ddabe6874
   ]
  },
  {
   "cell_type": "code",
<<<<<<< HEAD
   "execution_count": 30,
   "metadata": {},
   "outputs": [],
   "source": [
    "from keras.preprocessing.image import load_img, img_to_array\n",
    "import numpy as np\n",
    "img = load_img('test_image.jpg')\n",
    "img_array = img_to_array(img)\n",
    "img_array_expanded = np.expand_dims(img_array, axis=0)\n",
    "\n",
    "# classifier.predict(np.asarray(np.reshape(img_array_expanded, (64, 64), order='C' )))"
=======
   "execution_count": 138,
   "metadata": {},
   "outputs": [
    {
     "name": "stdout",
     "output_type": "stream",
     "text": "[0.8620009]  dog\n[0.8620009]\n"
    }
   ],
   "source": [
    "import cv2\n",
    "# load the image\n",
    "image = cv2.imread(\"test.jpg\")\n",
    "orig = image.copy()\n",
    "# pre-process the image for classification\n",
    "image = cv2.resize(image, (64, 64))\n",
    "image = image.astype(\"float\") / 255.0\n",
    "image = img_to_array(image)\n",
    "image = np.expand_dims(image, axis=0)\n",
    "result = model.predict(image)[0]\n",
    "\n",
    "if result < .8:\n",
    "    print(result,\" cat\")\n",
    "else:\n",
    "    print(result, \" dog\")\n",
    "\n",
    "print(result)"
>>>>>>> 1359006118f28de7d3bfcd91b433264ddabe6874
   ]
  },
  {
   "cell_type": "code",
<<<<<<< HEAD
   "execution_count": 42,
   "metadata": {},
   "outputs": [
    {
     "ename": "ModuleNotFoundError",
     "evalue": "No module named 'cv2'",
     "output_type": "error",
     "traceback": [
      "\u001b[0;31m---------------------------------------------------------------------------\u001b[0m",
      "\u001b[0;31mModuleNotFoundError\u001b[0m                       Traceback (most recent call last)",
      "\u001b[0;32m<ipython-input-42-c8ec22b3e787>\u001b[0m in \u001b[0;36m<module>\u001b[0;34m\u001b[0m\n\u001b[0;32m----> 1\u001b[0;31m \u001b[0;32mimport\u001b[0m \u001b[0mcv2\u001b[0m\u001b[0;34m\u001b[0m\u001b[0;34m\u001b[0m\u001b[0m\n\u001b[0m",
      "\u001b[0;31mModuleNotFoundError\u001b[0m: No module named 'cv2'"
     ]
    }
   ],
   "source": [
    "import cv2"
=======
   "execution_count": 131,
   "metadata": {},
   "outputs": [
    {
     "data": {
      "text/plain": "array([0.99984276], dtype=float32)"
     },
     "execution_count": 131,
     "metadata": {},
     "output_type": "execute_result"
    }
   ],
   "source": [
    "result"
>>>>>>> 1359006118f28de7d3bfcd91b433264ddabe6874
   ]
  }
 ],
 "metadata": {
  "anaconda-cloud": {},
  "kernelspec": {
   "display_name": "Python 3",
   "language": "python",
   "name": "python3"
  },
  "language_info": {
   "codemirror_mode": {
    "name": "ipython",
    "version": 3
   },
   "file_extension": ".py",
   "mimetype": "text/x-python",
   "name": "python",
   "nbconvert_exporter": "python",
   "pygments_lexer": "ipython3",
<<<<<<< HEAD
   "version": "3.6.8-final"
=======
   "version": "3.7.4-final"
>>>>>>> 1359006118f28de7d3bfcd91b433264ddabe6874
  }
 },
 "nbformat": 4,
 "nbformat_minor": 1
}