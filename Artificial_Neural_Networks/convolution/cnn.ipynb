{
 "cells": [
  {
   "cell_type": "code",
   "execution_count": 96,
   "metadata": {},
   "outputs": [],
   "source": [
    "# To add a new cell, type '# %%'\n",
    "# To add a new markdown cell, type '# %% [markdown]'\n",
    "# %%\n",
    "from keras.models import Sequential\n",
    "from keras.layers import Convolution2D\n",
    "from keras.layers import MaxPooling2D\n",
    "from keras.layers import Flatten\n",
    "from keras.layers import Dense\n",
    "from keras.models import load_model\n",
    "import os\n"
   ]
  },
  {
   "cell_type": "code",
   "execution_count": 84,
   "metadata": {},
   "outputs": [],
   "source": [
    "classifier = Sequential()\n",
    "classifier.add(Convolution2D(32, 3, 3, input_shape= (64, 64, 3), activation='relu'))\n",
    "classifier.add(MaxPooling2D(pool_size=(2, 2)))\n",
    "\n",
    "# Add a second convolutional layer, and you don't need an input shape parameter because Keras already knows from the previous set\n",
    "classifier.add(Convolution2D(32, 3, 3, activation='relu')) \n",
    "classifier.add(MaxPooling2D(pool_size=(2, 2)))\n",
    "\n",
    "classifier.add(Flatten())\n",
    "classifier.add(Dense(output_dim= 128, activation='relu'))\n",
    "classifier.add(Dense(output_dim= 1, activation='sigmoid'))\n",
    "classifier.compile(optimizer='adam', loss='binary_crossentropy', metrics=['accuracy'])\n"
   ]
  },
  {
   "cell_type": "code",
   "execution_count": 3,
   "metadata": {},
   "outputs": [],
   "source": [
    "cwd = '/home/devinlax/jupyter/Artificial_Neural_Networks/convolution/dataset/'\n",
    "\n",
    "from keras.preprocessing.image import ImageDataGenerator\n",
    "\n",
    "train_datagen = ImageDataGenerator(\n",
    "        rescale=1./255,\n",
    "        shear_range=0.2,\n",
    "        zoom_range=0.2,\n",
    "        horizontal_flip=True)\n",
    "\n",
    "test_datagen = ImageDataGenerator(rescale=1./255)\n"
   ]
  },
  {
   "cell_type": "code",
   "execution_count": 4,
   "metadata": {},
   "outputs": [
    {
     "name": "stdout",
     "output_type": "stream",
     "text": "Found 8000 images belonging to 2 classes.\n"
    }
   ],
   "source": [
    "training_set = train_datagen.flow_from_directory(\n",
    "        os.getcwd() + '/dataset/training_set',\n",
    "        target_size=(64, 64),\n",
    "        batch_size=32,\n",
    "        class_mode='binary')\n"
   ]
  },
  {
   "cell_type": "code",
   "execution_count": 5,
   "metadata": {},
   "outputs": [
    {
     "name": "stdout",
     "output_type": "stream",
     "text": "Found 8000 images belonging to 2 classes.\n"
    }
   ],
   "source": [
    "\n",
    "test_set = test_datagen.flow_from_directory(\n",
    "        os.getcwd() + '/dataset/training_set',\n",
    "        target_size=(64, 64),\n",
    "        batch_size=32,\n",
    "        class_mode='binary')\n"
   ]
  },
  {
   "cell_type": "code",
   "execution_count": 12,
   "metadata": {},
   "outputs": [
    {
     "name": "stdout",
     "output_type": "stream",
     "text": "Epoch 1/4\n8000/8000 [==============================] - 1716s 215ms/step - loss: 0.0514 - accuracy: 0.9819 - val_loss: 0.0012 - val_accuracy: 0.9959\nEpoch 2/4\n8000/8000 [==============================] - 1793s 224ms/step - loss: 0.0376 - accuracy: 0.9870 - val_loss: 6.6471e-04 - val_accuracy: 0.9967\nEpoch 3/4\n8000/8000 [==============================] - 1773s 222ms/step - loss: 0.0295 - accuracy: 0.9901 - val_loss: 0.0538 - val_accuracy: 0.9950\nEpoch 4/4\n7999/8000 [============================>.] - ETA: 0s - loss: 0.0254 - accuracy: 0.9915Epoch 4/4\n8000/8000 [==============================] - 1768s 221ms/step - loss: 0.0254 - accuracy: 0.9915 - val_loss: 0.0030 - val_accuracy: 0.9980\n"
    },
    {
     "data": {
      "text/plain": "<keras.callbacks.callbacks.History at 0x7f3d31a65c50>"
     },
     "execution_count": 12,
     "metadata": {},
     "output_type": "execute_result"
    }
   ],
   "source": [
    "classifier.fit_generator(\n",
    "        training_set,\n",
    "        steps_per_epoch=8000,\n",
    "        epochs=4,\n",
    "        validation_data=test_set,\n",
    "        validation_steps=2000,\n",
    "        use_multiprocessing=True,\n",
    "        workers=4)\n"
   ]
  },
  {
   "cell_type": "code",
   "execution_count": 97,
   "metadata": {},
   "outputs": [],
   "source": [
    "classifier.save_weights('dog_cat_cnn.h5')\n",
    "classifier.save('dog_cat_model')\n"
   ]
  },
  {
   "cell_type": "code",
   "execution_count": 116,
   "metadata": {},
   "outputs": [],
   "source": [
    "\n",
    "# classifier.load_weights('dog_cat_cnn.h5')\n",
    "model = load_model('dog_cat_model')"
   ]
  },
  {
   "cell_type": "code",
   "execution_count": 138,
   "metadata": {},
   "outputs": [
    {
     "name": "stdout",
     "output_type": "stream",
     "text": "[0.8620009]  dog\n[0.8620009]\n"
    }
   ],
   "source": [
    "import cv2\n",
    "# load the image\n",
    "image = cv2.imread(\"test.jpg\")\n",
    "orig = image.copy()\n",
    "# pre-process the image for classification\n",
    "image = cv2.resize(image, (64, 64))\n",
    "image = image.astype(\"float\") / 255.0\n",
    "image = img_to_array(image)\n",
    "image = np.expand_dims(image, axis=0)\n",
    "result = model.predict(image)[0]\n",
    "\n",
    "if result < .8:\n",
    "    print(result,\" cat\")\n",
    "else:\n",
    "    print(result, \" dog\")\n",
    "\n",
    "print(result)"
   ]
  },
  {
   "cell_type": "code",
   "execution_count": 131,
   "metadata": {},
   "outputs": [
    {
     "data": {
      "text/plain": "array([0.99984276], dtype=float32)"
     },
     "execution_count": 131,
     "metadata": {},
     "output_type": "execute_result"
    }
   ],
   "source": [
    "result"
   ]
  }
 ],
 "metadata": {
  "anaconda-cloud": {},
  "kernelspec": {
   "display_name": "Python 3",
   "language": "python",
   "name": "python3"
  },
  "language_info": {
   "codemirror_mode": {
    "name": "ipython",
    "version": 3
   },
   "file_extension": ".py",
   "mimetype": "text/x-python",
   "name": "python",
   "nbconvert_exporter": "python",
   "pygments_lexer": "ipython3",
   "version": "3.7.4-final"
  }
 },
 "nbformat": 4,
 "nbformat_minor": 1
}