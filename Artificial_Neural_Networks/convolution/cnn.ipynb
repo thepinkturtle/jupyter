{
 "cells": [
  {
   "cell_type": "code",
   "execution_count": 105,
   "metadata": {},
   "outputs": [
    {
     "name": "stderr",
     "output_type": "stream",
     "text": "/home/devinlax/.local/lib/python3.6/site-packages/ipykernel_launcher.py:12: UserWarning: Update your `Conv2D` call to the Keras 2 API: `Conv2D(32, (3, 3), input_shape=(64, 64, 3..., activation=\"relu\")`\n  if sys.path[0] == '':\n/home/devinlax/.local/lib/python3.6/site-packages/ipykernel_launcher.py:13: UserWarning: Update your `Conv2D` call to the Keras 2 API: `Conv2D(32, (3, 3), activation=\"relu\")`\n  del sys.path[0]\n/home/devinlax/.local/lib/python3.6/site-packages/ipykernel_launcher.py:17: UserWarning: Update your `Conv2D` call to the Keras 2 API: `Conv2D(64, (3, 3), activation=\"relu\")`\n/home/devinlax/.local/lib/python3.6/site-packages/ipykernel_launcher.py:18: UserWarning: Update your `Conv2D` call to the Keras 2 API: `Conv2D(64, (3, 3), activation=\"relu\")`\n"
    }
   ],
   "source": [
    "from keras.models import Sequential\n",
    "from keras.layers import Convolution2D\n",
    "from keras.layers import MaxPooling2D\n",
    "from keras.layers import Flatten\n",
    "from keras.layers import Dense\n",
    "from keras.models import save_model\n",
    "import os\n",
    "\n",
    "classifier = Sequential()\n",
    "\n",
    "#Convolution step\n",
    "classifier.add(Convolution2D(32, 3, 3, input_shape= (64, 64, 3), activation='relu'))\n",
    "classifier.add(Convolution2D(32, 3, 3, activation='relu'))\n",
    "classifier.add(MaxPooling2D(pool_size=(2, 2)))\n",
    "\n",
    "#Convolution step\n",
    "classifier.add(Convolution2D(64, 3, 3, activation='relu'))\n",
    "classifier.add(Convolution2D(64, 3, 3, activation='relu'))\n",
    "classifier.add(MaxPooling2D(pool_size=(2, 2)))\n",
    "\n",
    "#Flattening step\n",
    "classifier.add(Flatten())\n",
    "#Full connection (fully connected layer, hidden layer), create the classic ANN, Dense adds a fully connected layer\n",
    "classifier.add(Dense(units= 128, activation='relu'))\n",
    "\n",
    "#Output layer, if more than two outcomes use softmax\n",
    "classifier.add(Dense(units= 1, activation='sigmoid'))\n",
    "classifier.compile(optimizer='adam', loss='binary_crossentropy', metrics=['accuracy'])"
   ]
  },
  {
   "cell_type": "code",
   "execution_count": 106,
   "metadata": {},
   "outputs": [
    {
     "name": "stdout",
     "output_type": "stream",
     "text": "Found 8000 images belonging to 2 classes.\nFound 2000 images belonging to 2 classes.\n"
    }
   ],
   "source": [
    "cwd = '/home/devinlax/jupyter/Artificial_Neural_Networks/convolution/dataset/'\n",
    "\n",
    "# Image augmentation to help prevent overfitten because 10000 images isn't very many\n",
    "from keras.preprocessing.image import ImageDataGenerator\n",
    "train_datagen = ImageDataGenerator(\n",
    "        rescale=1./255,\n",
    "        shear_range=0.2,\n",
    "        zoom_range=0.2,\n",
    "        horizontal_flip=True,\n",
    "        vertical_flip=True)\n",
    "\n",
    "test_datagen = ImageDataGenerator(rescale=1./255)\n",
    "\n",
    "training_set = train_datagen.flow_from_directory(\n",
    "        cwd + 'training_set',\n",
    "        target_size=(64, 64),\n",
    "        batch_size=32,\n",
    "        class_mode='binary')\n",
    "\n",
    "test_set = test_datagen.flow_from_directory(\n",
    "        cwd + 'test_set',\n",
    "        target_size=(64, 64),\n",
    "        batch_size=32,\n",
    "        class_mode='binary')\n"
   ]
  },
  {
   "cell_type": "code",
   "execution_count": 107,
   "metadata": {},
   "outputs": [
    {
     "name": "stderr",
     "output_type": "stream",
     "text": "/home/devinlax/.local/lib/python3.6/site-packages/ipykernel_launcher.py:8: UserWarning: The semantics of the Keras 2 argument `steps_per_epoch` is not the same as the Keras 1 argument `samples_per_epoch`. `steps_per_epoch` is the number of batches to draw from the generator at each epoch. Basically steps_per_epoch = samples_per_epoch/batch_size. Similarly `nb_val_samples`->`validation_steps` and `val_samples`->`steps` arguments have changed. Update your method calls accordingly.\n  \n/home/devinlax/.local/lib/python3.6/site-packages/ipykernel_launcher.py:8: UserWarning: Update your `fit_generator` call to the Keras 2 API: `fit_generator(<keras.pre..., epochs=10, validation_data=<keras.pre..., workers=8, use_multiprocessing=True, steps_per_epoch=250, validation_steps=2000)`\n  \nEpoch 1/10\n250/250 [==============================] - 193s 771ms/step - loss: 0.6922 - accuracy: 0.5241 - val_loss: 0.6797 - val_accuracy: 0.5635\nEpoch 2/10\n250/250 [==============================] - 195s 778ms/step - loss: 0.6859 - accuracy: 0.5533 - val_loss: 0.6764 - val_accuracy: 0.5764\nEpoch 3/10\n250/250 [==============================] - 177s 707ms/step - loss: 0.6822 - accuracy: 0.5663 - val_loss: 0.6899 - val_accuracy: 0.5844\nEpoch 4/10\n250/250 [==============================] - 161s 644ms/step - loss: 0.6786 - accuracy: 0.5701 - val_loss: 0.6909 - val_accuracy: 0.5655\nEpoch 5/10\n250/250 [==============================] - 174s 695ms/step - loss: 0.6682 - accuracy: 0.5903 - val_loss: 0.6413 - val_accuracy: 0.5964\nEpoch 6/10\n250/250 [==============================] - 194s 776ms/step - loss: 0.6587 - accuracy: 0.6148 - val_loss: 0.6915 - val_accuracy: 0.6223\nEpoch 7/10\n250/250 [==============================] - 199s 795ms/step - loss: 0.6515 - accuracy: 0.6241 - val_loss: 0.6657 - val_accuracy: 0.6489\nEpoch 8/10\n249/250 [============================>.] - ETA: 0s - loss: 0.6222 - accuracy: 0.6498"
    }
   ],
   "source": [
    "classifier.fit_generator(\n",
    "        training_set,\n",
    "        samples_per_epoch=8000,\n",
    "        epochs=10,\n",
    "        validation_data=test_set,\n",
    "        nb_val_samples=2000,\n",
    "        workers=8,\n",
    "        use_multiprocessing=True)"
   ]
  },
  {
   "cell_type": "code",
   "execution_count": 77,
   "metadata": {},
   "outputs": [],
   "source": [
    "classifier.save_weights('dog_cat_cnn.h5') # Save the model for later use\n",
    "classifier.save('dog_cat_model.h5')\n"
   ]
  },
  {
   "cell_type": "code",
   "execution_count": 94,
   "metadata": {},
   "outputs": [
    {
     "name": "stdout",
     "output_type": "stream",
     "text": "dog\n"
    }
   ],
   "source": [
    "\n",
    "# how process individual images\n",
    "import numpy as np\n",
    "from keras.preprocessing import image\n",
    "# classifier.load_weights('dog_cat_cnn.h5')\n",
    "test_image = image.load_img('dataset/single_prediction/cat_or_dog_4.jpg', target_size=(64, 64))\n",
    "test_image = image.img_to_array(test_image)\n",
    "test_image = np.expand_dims(test_image, axis=0)\n",
    "result = classifier.predict(test_image)\n",
    "training_set.class_indices\n",
    "\n",
    "if result[0][0] == 1:\n",
    "    print('dog')\n",
    "else:\n",
    "    print('cat')"
   ]
  }
 ],
 "metadata": {
  "anaconda-cloud": {},
  "kernelspec": {
   "display_name": "Python 3",
   "language": "python",
   "name": "python3"
  },
  "language_info": {
   "codemirror_mode": {
    "name": "ipython",
    "version": 3
   },
   "file_extension": ".py",
   "mimetype": "text/x-python",
   "name": "python",
   "nbconvert_exporter": "python",
   "pygments_lexer": "ipython3",
   "version": "3.6.8-final"
  }
 },
 "nbformat": 4,
 "nbformat_minor": 1
}