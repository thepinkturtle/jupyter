{
  "nbformat_minor": 1, 
  "nbformat": 4, 
  "cells": [
    {
      "source": [
        "# To add a new cell, type '# %%'\n", 
        "# To add a new markdown cell, type '# %% [markdown]'\n", 
        "# %%\n", 
        "from keras.models import Sequential\n", 
        "from keras.layers import Convolution2D\n", 
        "from keras.layers import MaxPooling2D\n", 
        "from keras.layers import Flatten\n", 
        "from keras.layers import Dense\n"
      ], 
      "cell_type": "code", 
      "execution_count": null, 
      "outputs": [], 
      "metadata": {}
    }, 
    {
      "source": [
        "classifier = Sequential()\n", 
        "classifier.add(Convolution2D(32, 3, 3, input_shape= (64, 64, 3), activation='relu'))\n", 
        "classifier.add(MaxPooling2D(pool_size=(2, 2)))\n", 
        "\n", 
        "# Add a second convolutional layer, and you don't need an input shape parameter because Keras already knows from the previous set\n", 
        "classifier.add(Convolution2D(32, 3, 3, activation='relu')) \n", 
        "classifier.add(MaxPooling2D(pool_size=(2, 2)))\n", 
        "\n", 
        "classifier.add(Flatten())\n", 
        "classifier.add(Dense(output_dim= 128, activation='relu'))\n", 
        "classifier.add(Dense(output_dim= 1, activation='sigmoid'))\n", 
        "classifier.compile(optimizer='adam', loss='binary_crossentropy', metrics=['accuracy'])\n"
      ], 
      "cell_type": "code", 
      "execution_count": null, 
      "outputs": [], 
      "metadata": {}
    }, 
    {
      "source": [
        "cwd = '/home/devinlax/jupyter/Artificial_Neural_Networks/Convolutional_Neural_Networks/dataset/'\n", 
        "\n", 
        "from keras.preprocessing.image import ImageDataGenerator\n", 
        "\n", 
        "train_datagen = ImageDataGenerator(\n", 
        "        rescale=1./255,\n", 
        "        shear_range=0.2,\n", 
        "        zoom_range=0.2,\n", 
        "        horizontal_flip=True)\n", 
        "\n", 
        "test_datagen = ImageDataGenerator(rescale=1./255)\n"
      ], 
      "cell_type": "code", 
      "execution_count": null, 
      "outputs": [], 
      "metadata": {}
    }, 
    {
      "source": [
        "training_set = train_datagen.flow_from_directory(\n", 
        "        cwd + 'training_set',\n", 
        "        target_size=(64, 64),\n", 
        "        batch_size=32,\n", 
        "        class_mode='binary')\n"
      ], 
      "cell_type": "code", 
      "execution_count": null, 
      "outputs": [], 
      "metadata": {}
    }, 
    {
      "source": [
        "\n", 
        "test_set = test_datagen.flow_from_directory(\n", 
        "        cwd + 'test_set',\n", 
        "        target_size=(64, 64),\n", 
        "        batch_size=32,\n", 
        "        class_mode='binary')\n"
      ], 
      "cell_type": "code", 
      "execution_count": null, 
      "outputs": [], 
      "metadata": {}
    }, 
    {
      "source": [
        "classifier.fit_generator(\n", 
        "        training_set,\n", 
        "        steps_per_epoch=8000,\n", 
        "        epochs=1,\n", 
        "        validation_data=test_set,\n", 
        "        validation_steps=2000)\n"
      ], 
      "cell_type": "code", 
      "execution_count": null, 
      "outputs": [], 
      "metadata": {}
    }, 
    {
      "source": [
        "classifier.\n", 
        "\n"
      ], 
      "cell_type": "code", 
      "execution_count": null, 
      "outputs": [], 
      "metadata": {}
    }
  ], 
  "metadata": {
    "kernelspec": {
      "display_name": "Python 3", 
      "name": "python3", 
      "language": "python"
    }, 
    "language_info": {
      "mimetype": "text/x-python", 
      "nbconvert_exporter": "python", 
      "name": "python", 
      "file_extension": ".py", 
      "version": "3.6.1", 
      "pygments_lexer": "ipython3", 
      "codemirror_mode": {
        "version": 3, 
        "name": "ipython"
      }
    }, 
    "anaconda-cloud": {}
  }
}