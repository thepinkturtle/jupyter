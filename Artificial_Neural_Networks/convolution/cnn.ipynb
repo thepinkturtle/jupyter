{
 "cells": [
  {
   "cell_type": "code",
   "execution_count": 7,
   "metadata": {},
   "outputs": [],
   "source": [
    "from keras.models import Sequential\n",
    "from keras.layers import Convolution2D\n",
    "from keras.layers import MaxPooling2D\n",
    "from keras.layers import Flatten\n",
    "from keras.layers import Dense\n",
    "from keras.layers import Dropout\n",
    "from keras.models import save_model\n",
    "import random\n",
    "import os\n",
    "\n",
    "classifier = Sequential()\n",
    "\n",
    "#Convolution step\n",
    "classifier.add(Convolution2D(32, 3, 3, input_shape= (64, 64, 3), activation='relu'))\n",
    "classifier.add(Convolution2D(32, 3, 3, activation='relu'))\n",
    "classifier.add(MaxPooling2D(pool_size=(2, 2)))\n",
    "classifier.add(Dropout(rate=random.uniform(0, .2)))\n",
    "\n",
    "\n",
    "#Convolution step\n",
    "classifier.add(Convolution2D(64, 3, 3, activation='relu'))\n",
    "classifier.add(Convolution2D(64, 3, 3, activation='relu'))\n",
    "classifier.add(MaxPooling2D(pool_size=(2, 2)))\n",
    "classifier.add(Dropout(rate=random.uniform(0, .2)))\n",
    "\n",
    "#Convolution step\n",
    "classifier.add(Convolution2D(128, 3, 3, activation='relu'))\n",
    "classifier.add(MaxPooling2D(pool_size=(2, 2)))\n",
    "classifier.add(Dropout(rate=random.uniform(0, .2)))\n",
    "\n",
    "#Flattening step\n",
    "classifier.add(Flatten())\n",
    "#Full connection (fully connected layer, hidden layer), create the classic ANN, Dense adds a fully connected layer\n",
    "classifier.add(Dense(units= 128, activation='relu'))\n",
    "classifier.add(Dropout(rate=random.uniform(0, .2)))\n",
    "\n",
    "#Output layer, if more than two outcomes use softmax\n",
    "classifier.add(Dense(units= 1, activation='sigmoid'))\n",
    "classifier.compile(optimizer='adam', loss='binary_crossentropy', metrics=['accuracy'])"
   ]
  },
  {
   "cell_type": "code",
   "execution_count": 8,
   "metadata": {},
   "outputs": [
    {
     "name": "stdout",
     "output_type": "stream",
     "text": "Found 8000 images belonging to 2 classes.\nFound 2000 images belonging to 2 classes.\n"
    }
   ],
   "source": [
    "# Image augmentation to help prevent overfitten because 10000 images isn't very many\n",
    "from keras.preprocessing.image import ImageDataGenerator\n",
    "train_datagen = ImageDataGenerator(\n",
    "        rescale=1./255,\n",
    "        shear_range=0.2,\n",
    "        zoom_range=0.2,\n",
    "        horizontal_flip=True,\n",
    "        vertical_flip=True)\n",
    "\n",
    "test_datagen = ImageDataGenerator(rescale=1./255)\n",
    "\n",
    "training_set = train_datagen.flow_from_directory(\n",
    "        'dataset/training_set',\n",
    "        target_size=(64, 64),\n",
    "        batch_size=32,\n",
    "        class_mode='binary')\n",
    "\n",
    "test_set = test_datagen.flow_from_directory(\n",
    "        'dataset/test_set',\n",
    "        target_size=(64, 64),\n",
    "        batch_size=32,\n",
    "        class_mode='binary')\n"
   ]
  },
  {
   "cell_type": "code",
   "execution_count": 9,
   "metadata": {},
   "outputs": [
    {
     "name": "stdout",
     "output_type": "stream",
     "text": "Epoch 1/10\n250/250 [==============================] - 789s 3s/step - loss: 0.6941 - accuracy: 0.5156 - val_loss: 0.6794 - val_accuracy: 0.5600\nEpoch 2/10\n250/250 [==============================] - 779s 3s/step - loss: 0.6862 - accuracy: 0.5546 - val_loss: 0.6423 - val_accuracy: 0.5751\nEpoch 3/10\n250/250 [==============================] - 785s 3s/step - loss: 0.6813 - accuracy: 0.5589 - val_loss: 0.6503 - val_accuracy: 0.5782\nEpoch 4/10\n250/250 [==============================] - 707s 3s/step - loss: 0.6754 - accuracy: 0.5742 - val_loss: 0.6674 - val_accuracy: 0.6266\nEpoch 5/10\n250/250 [==============================] - 691s 3s/step - loss: 0.6630 - accuracy: 0.6058 - val_loss: 0.7015 - val_accuracy: 0.6205\nEpoch 6/10\n250/250 [==============================] - 649s 3s/step - loss: 0.6524 - accuracy: 0.6130 - val_loss: 0.7284 - val_accuracy: 0.6204\nEpoch 7/10\n250/250 [==============================] - 687s 3s/step - loss: 0.6408 - accuracy: 0.6348 - val_loss: 0.6239 - val_accuracy: 0.6246\nEpoch 8/10\n250/250 [==============================] - 639s 3s/step - loss: 0.6265 - accuracy: 0.6509 - val_loss: 0.6507 - val_accuracy: 0.5996\nEpoch 9/10\n249/250 [============================>.] - ETA: 3s - loss: 0.6133 - accuracy: 0.6578Process ForkPoolWorker-1061:\nProcess ForkPoolWorker-1064:\nProcess ForkPoolWorker-1063:\nProcess ForkPoolWorker-1057:\nProcess ForkPoolWorker-1058:\nProcess ForkPoolWorker-1059:\nProcess ForkPoolWorker-1062:\nProcess ForkPoolWorker-1053:\nProcess ForkPoolWorker-1056:\nProcess ForkPoolWorker-1054:\nProcess ForkPoolWorker-1055:\nProcess ForkPoolWorker-1060:\nTraceback (most recent call last):\nTraceback (most recent call last):\nTraceback (most recent call last):\nTraceback (most recent call last):\n  File \"/home/devin/anaconda3/lib/python3.7/multiprocessing/process.py\", line 297, in _bootstrap\n    self.run()\nTraceback (most recent call last):\n  File \"/home/devin/anaconda3/lib/python3.7/multiprocessing/process.py\", line 297, in _bootstrap\n    self.run()\nTraceback (most recent call last):\nTraceback (most recent call last):\nTraceback (most recent call last):\nTraceback (most recent call last):\nTraceback (most recent call last):\n  File \"/home/devin/anaconda3/lib/python3.7/multiprocessing/process.py\", line 297, in _bootstrap\n    self.run()\nTraceback (most recent call last):\nTraceback (most recent call last):\n  File \"/home/devin/anaconda3/lib/python3.7/multiprocessing/process.py\", line 297, in _bootstrap\n    self.run()\n  File \"/home/devin/anaconda3/lib/python3.7/multiprocessing/process.py\", line 99, in run\n    self._target(*self._args, **self._kwargs)\n  File \"/home/devin/anaconda3/lib/python3.7/multiprocessing/process.py\", line 297, in _bootstrap\n    self.run()\n  File \"/home/devin/anaconda3/lib/python3.7/multiprocessing/process.py\", line 297, in _bootstrap\n    self.run()\n  File \"/home/devin/anaconda3/lib/python3.7/multiprocessing/process.py\", line 297, in _bootstrap\n    self.run()\n  File \"/home/devin/anaconda3/lib/python3.7/multiprocessing/process.py\", line 99, in run\n    self._target(*self._args, **self._kwargs)\n  File \"/home/devin/anaconda3/lib/python3.7/multiprocessing/process.py\", line 297, in _bootstrap\n    self.run()\n  File \"/home/devin/anaconda3/lib/python3.7/multiprocessing/pool.py\", line 110, in worker\n    task = get()\n  File \"/home/devin/anaconda3/lib/python3.7/multiprocessing/process.py\", line 297, in _bootstrap\n    self.run()\n  File \"/home/devin/anaconda3/lib/python3.7/multiprocessing/process.py\", line 99, in run\n    self._target(*self._args, **self._kwargs)\n  File \"/home/devin/anaconda3/lib/python3.7/multiprocessing/process.py\", line 99, in run\n    self._target(*self._args, **self._kwargs)\n  File \"/home/devin/anaconda3/lib/python3.7/multiprocessing/process.py\", line 99, in run\n    self._target(*self._args, **self._kwargs)\n  File \"/home/devin/anaconda3/lib/python3.7/multiprocessing/process.py\", line 297, in _bootstrap\n    self.run()\n  File \"/home/devin/anaconda3/lib/python3.7/multiprocessing/process.py\", line 297, in _bootstrap\n    self.run()\n  File \"/home/devin/anaconda3/lib/python3.7/multiprocessing/process.py\", line 99, in run\n    self._target(*self._args, **self._kwargs)\n  File \"/home/devin/anaconda3/lib/python3.7/multiprocessing/pool.py\", line 110, in worker\n    task = get()\n  File \"/home/devin/anaconda3/lib/python3.7/multiprocessing/process.py\", line 99, in run\n    self._target(*self._args, **self._kwargs)\n  File \"/home/devin/anaconda3/lib/python3.7/multiprocessing/pool.py\", line 110, in worker\n    task = get()\n  File \"/home/devin/anaconda3/lib/python3.7/multiprocessing/queues.py\", line 352, in get\n    res = self._reader.recv_bytes()\n  File \"/home/devin/anaconda3/lib/python3.7/multiprocessing/process.py\", line 99, in run\n    self._target(*self._args, **self._kwargs)\n  File \"/home/devin/anaconda3/lib/python3.7/multiprocessing/queues.py\", line 351, in get\n    with self._rlock:\n  File \"/home/devin/anaconda3/lib/python3.7/multiprocessing/synchronize.py\", line 95, in __enter__\n    return self._semlock.__enter__()\n  File \"/home/devin/anaconda3/lib/python3.7/multiprocessing/pool.py\", line 110, in worker\n    task = get()\n  File \"/home/devin/anaconda3/lib/python3.7/multiprocessing/process.py\", line 297, in _bootstrap\n    self.run()\n  File \"/home/devin/anaconda3/lib/python3.7/multiprocessing/pool.py\", line 110, in worker\n    task = get()\n  File \"/home/devin/anaconda3/lib/python3.7/multiprocessing/process.py\", line 99, in run\n    self._target(*self._args, **self._kwargs)\n  File \"/home/devin/anaconda3/lib/python3.7/multiprocessing/pool.py\", line 110, in worker\n    task = get()\n  File \"/home/devin/anaconda3/lib/python3.7/multiprocessing/process.py\", line 99, in run\n    self._target(*self._args, **self._kwargs)\n  File \"/home/devin/anaconda3/lib/python3.7/multiprocessing/queues.py\", line 351, in get\n    with self._rlock:\n  File \"/home/devin/anaconda3/lib/python3.7/multiprocessing/process.py\", line 99, in run\n    self._target(*self._args, **self._kwargs)\n  File \"/home/devin/anaconda3/lib/python3.7/multiprocessing/pool.py\", line 110, in worker\n    task = get()\n  File \"/home/devin/anaconda3/lib/python3.7/multiprocessing/pool.py\", line 110, in worker\n    task = get()\n  File \"/home/devin/anaconda3/lib/python3.7/multiprocessing/queues.py\", line 351, in get\n    with self._rlock:\n  File \"/home/devin/anaconda3/lib/python3.7/multiprocessing/queues.py\", line 352, in get\n    res = self._reader.recv_bytes()\n  File \"/home/devin/anaconda3/lib/python3.7/multiprocessing/queues.py\", line 351, in get\n    with self._rlock:\n  File \"/home/devin/anaconda3/lib/python3.7/multiprocessing/pool.py\", line 110, in worker\n    task = get()\n  File \"/home/devin/anaconda3/lib/python3.7/multiprocessing/connection.py\", line 216, in recv_bytes\n    buf = self._recv_bytes(maxlength)\n  File \"/home/devin/anaconda3/lib/python3.7/multiprocessing/process.py\", line 99, in run\n    self._target(*self._args, **self._kwargs)\n  File \"/home/devin/anaconda3/lib/python3.7/multiprocessing/queues.py\", line 351, in get\n    with self._rlock:\nKeyboardInterrupt\n  File \"/home/devin/anaconda3/lib/python3.7/multiprocessing/synchronize.py\", line 95, in __enter__\n    return self._semlock.__enter__()\n  File \"/home/devin/anaconda3/lib/python3.7/multiprocessing/pool.py\", line 110, in worker\n    task = get()\n  File \"/home/devin/anaconda3/lib/python3.7/multiprocessing/connection.py\", line 216, in recv_bytes\n    buf = self._recv_bytes(maxlength)\n  File \"/home/devin/anaconda3/lib/python3.7/multiprocessing/pool.py\", line 110, in worker\n    task = get()\n  File \"/home/devin/anaconda3/lib/python3.7/multiprocessing/synchronize.py\", line 95, in __enter__\n    return self._semlock.__enter__()\n  File \"/home/devin/anaconda3/lib/python3.7/multiprocessing/connection.py\", line 407, in _recv_bytes\n    buf = self._recv(4)\n  File \"/home/devin/anaconda3/lib/python3.7/multiprocessing/queues.py\", line 351, in get\n    with self._rlock:\nKeyboardInterrupt\n  File \"/home/devin/anaconda3/lib/python3.7/multiprocessing/queues.py\", line 351, in get\n    with self._rlock:\n  File \"/home/devin/anaconda3/lib/python3.7/multiprocessing/synchronize.py\", line 95, in __enter__\n    return self._semlock.__enter__()\n  File \"/home/devin/anaconda3/lib/python3.7/multiprocessing/queues.py\", line 351, in get\n    with self._rlock:\nKeyboardInterrupt\n  File \"/home/devin/anaconda3/lib/python3.7/multiprocessing/synchronize.py\", line 95, in __enter__\n    return self._semlock.__enter__()\nKeyboardInterrupt\nKeyboardInterrupt\n  File \"/home/devin/anaconda3/lib/python3.7/multiprocessing/connection.py\", line 407, in _recv_bytes\n    buf = self._recv(4)\n  File \"/home/devin/anaconda3/lib/python3.7/multiprocessing/synchronize.py\", line 95, in __enter__\n    return self._semlock.__enter__()\n  File \"/home/devin/anaconda3/lib/python3.7/multiprocessing/queues.py\", line 351, in get\n    with self._rlock:\nKeyboardInterrupt\n  File \"/home/devin/anaconda3/lib/python3.7/multiprocessing/synchronize.py\", line 95, in __enter__\n    return self._semlock.__enter__()\n  File \"/home/devin/anaconda3/lib/python3.7/multiprocessing/synchronize.py\", line 95, in __enter__\n    return self._semlock.__enter__()\n  File \"/home/devin/anaconda3/lib/python3.7/multiprocessing/pool.py\", line 110, in worker\n    task = get()\n  File \"/home/devin/anaconda3/lib/python3.7/multiprocessing/connection.py\", line 379, in _recv\n    chunk = read(handle, remaining)\n  File \"/home/devin/anaconda3/lib/python3.7/multiprocessing/connection.py\", line 379, in _recv\n    chunk = read(handle, remaining)\n  File \"/home/devin/anaconda3/lib/python3.7/multiprocessing/queues.py\", line 351, in get\n    with self._rlock:\n  File \"/home/devin/anaconda3/lib/python3.7/multiprocessing/synchronize.py\", line 95, in __enter__\n    return self._semlock.__enter__()\nKeyboardInterrupt\nKeyboardInterrupt\nKeyboardInterrupt\n  File \"/home/devin/anaconda3/lib/python3.7/multiprocessing/synchronize.py\", line 95, in __enter__\n    return self._semlock.__enter__()\nKeyboardInterrupt\nKeyboardInterrupt\nKeyboardInterrupt\nProcess ForkPoolWorker-530:\nProcess ForkPoolWorker-531:\nProcess ForkPoolWorker-529:\nTraceback (most recent call last):\n  File \"/home/devin/anaconda3/lib/python3.7/multiprocessing/process.py\", line 297, in _bootstrap\n    self.run()\nTraceback (most recent call last):\nTraceback (most recent call last):\n  File \"/home/devin/anaconda3/lib/python3.7/multiprocessing/process.py\", line 99, in run\n    self._target(*self._args, **self._kwargs)\n  File \"/home/devin/anaconda3/lib/python3.7/multiprocessing/process.py\", line 297, in _bootstrap\n    self.run()\n  File \"/home/devin/anaconda3/lib/python3.7/multiprocessing/process.py\", line 297, in _bootstrap\n    self.run()\n  File \"/home/devin/anaconda3/lib/python3.7/multiprocessing/pool.py\", line 110, in worker\n    task = get()\n  File \"/home/devin/anaconda3/lib/python3.7/multiprocessing/process.py\", line 99, in run\n    self._target(*self._args, **self._kwargs)\n  File \"/home/devin/anaconda3/lib/python3.7/multiprocessing/process.py\", line 99, in run\n    self._target(*self._args, **self._kwargs)\n  File \"/home/devin/anaconda3/lib/python3.7/multiprocessing/pool.py\", line 110, in worker\n    task = get()\n  File \"/home/devin/anaconda3/lib/python3.7/multiprocessing/queues.py\", line 351, in get\n    with self._rlock:\n  File \"/home/devin/anaconda3/lib/python3.7/multiprocessing/synchronize.py\", line 95, in __enter__\n    return self._semlock.__enter__()\n  File \"/home/devin/anaconda3/lib/python3.7/multiprocessing/queues.py\", line 351, in get\n    with self._rlock:\n  File \"/home/devin/anaconda3/lib/python3.7/multiprocessing/pool.py\", line 110, in worker\n    task = get()\nKeyboardInterrupt\n  File \"/home/devin/anaconda3/lib/python3.7/multiprocessing/queues.py\", line 352, in get\n    res = self._reader.recv_bytes()\n  File \"/home/devin/anaconda3/lib/python3.7/multiprocessing/synchronize.py\", line 95, in __enter__\n    return self._semlock.__enter__()\nKeyboardInterrupt\n  File \"/home/devin/anaconda3/lib/python3.7/multiprocessing/connection.py\", line 216, in recv_bytes\n    buf = self._recv_bytes(maxlength)\n  File \"/home/devin/anaconda3/lib/python3.7/multiprocessing/connection.py\", line 407, in _recv_bytes\n    buf = self._recv(4)\n  File \"/home/devin/anaconda3/lib/python3.7/multiprocessing/connection.py\", line 379, in _recv\n    chunk = read(handle, remaining)\nKeyboardInterrupt\n"
    }
   ],
   "source": [
    "classifier.fit_generator(\n",
    "        training_set,\n",
    "        samples_per_epoch=8000,\n",
    "        epochs=10,\n",
    "        validation_data=test_set,\n",
    "        nb_val_samples=2000,\n",
    "        workers=4,\n",
    "        use_multiprocessing=True)"
   ]
  },
  {
   "cell_type": "code",
   "execution_count": 77,
   "metadata": {},
   "outputs": [],
   "source": [
    "classifier.save_weights('dog_cat_cnn.h5') # Save the model for later use\n",
    "classifier.save('dog_cat_model.h5')\n"
   ]
  },
  {
   "cell_type": "code",
   "execution_count": 94,
   "metadata": {},
   "outputs": [
    {
     "name": "stdout",
     "output_type": "stream",
     "text": "dog\n"
    }
   ],
   "source": [
    "\n",
    "# how process individual images\n",
    "import numpy as np\n",
    "from keras.preprocessing import image\n",
    "# classifier.load_weights('dog_cat_cnn.h5')\n",
    "test_image = image.load_img('dataset/single_prediction/cat_or_dog_4.jpg', target_size=(64, 64))\n",
    "test_image = image.img_to_array(test_image)\n",
    "test_image = np.expand_dims(test_image, axis=0)\n",
    "result = classifier.predict(test_image)\n",
    "training_set.class_indices\n",
    "\n",
    "if result[0][0] == 1:\n",
    "    print('dog')\n",
    "else:\n",
    "    print('cat')"
   ]
  }
 ],
 "metadata": {
  "anaconda-cloud": {},
  "kernelspec": {
   "display_name": "Python 3",
   "language": "python",
   "name": "python3"
  },
  "language_info": {
   "codemirror_mode": {
    "name": "ipython",
    "version": 3
   },
   "file_extension": ".py",
   "mimetype": "text/x-python",
   "name": "python",
   "nbconvert_exporter": "python",
   "pygments_lexer": "ipython3",
   "version": "3.7.4-final"
  }
 },
 "nbformat": 4,
 "nbformat_minor": 1
}