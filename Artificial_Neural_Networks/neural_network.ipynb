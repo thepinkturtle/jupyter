{
 "cells": [
  {
   "cell_type": "code",
   "execution_count": 1,
   "metadata": {},
   "outputs": [],
   "source": [
    "import numpy as np\n",
    "import matplotlib.pyplot as plt\n",
    "import os\n",
    "import pandas as pd\n",
    "from sklearn.impute import SimpleImputer\n",
    "\n",
    "dataset = pd.read_csv(os.getcwd()+'/Churn_Modelling.csv')\n",
    "\n",
    "X = dataset.iloc[:,3:-1].values\n",
    "y = dataset.iloc[:,-1].values"
   ]
  },
  {
   "cell_type": "code",
   "execution_count": 2,
   "metadata": {},
   "outputs": [],
   "source": [
    "# Encoding categorical data\n",
    "from sklearn.preprocessing import OneHotEncoder\n",
    "from sklearn.compose import ColumnTransformer\n",
    "\n",
    "ct = ColumnTransformer([('encoder', OneHotEncoder(), [1,2])], remainder='passthrough')\n",
    "ct_country_gender = np.array(ct.fit_transform(X)[:,[1,2,3]], dtype=np.float)\n",
    "X = np.hstack((ct_country_gender[:, :2], X[:, [0]], ct_country_gender[:, [2]], X[:, 3:]))\n"
   ]
  },
  {
   "cell_type": "code",
   "execution_count": 3,
   "metadata": {},
   "outputs": [],
   "source": [
    "# Splitting the dataset into the Training set and Test set\n",
    "from sklearn.model_selection import train_test_split\n",
    "X_train, X_test, y_train, y_test = train_test_split(X, y, test_size = 0.2, random_state = 0)"
   ]
  },
  {
   "cell_type": "code",
   "execution_count": 4,
   "metadata": {},
   "outputs": [],
   "source": [
    "# Feature Scaling\n",
    "from sklearn.preprocessing import StandardScaler\n",
    "sc_x = StandardScaler()\n",
    "X_train = sc_x.fit_transform(X_train)\n",
    "X_test = sc_x.transform(X_test)"
   ]
  },
  {
   "cell_type": "code",
   "execution_count": 6,
   "metadata": {},
   "outputs": [],
   "source": [
    "import keras\n",
    "from keras.models import Sequential\n",
    "from keras.layers import Dense"
   ]
  },
  {
   "cell_type": "code",
   "execution_count": 24,
   "metadata": {},
   "outputs": [],
   "source": [
    "classifier = Sequential()\n",
    "classifier.add(Dense(output_dim=6, init='uniform', activation='relu', input_dim=11)) # input layer\n",
    "classifier.add(Dense(output_dim=6, init='uniform', activation='relu'))               # hidden layer\n",
    "classifier.add(Dense(output_dim=1, init='uniform', activation='sigmoid'))            # output layer\n",
    "classifier.compile(optimizer='adam', loss='binary_crossentropy',metrics=['accuracy'])# create the NN"
   ]
  },
  {
   "cell_type": "code",
   "execution_count": 26,
   "metadata": {},
   "outputs": [
    {
     "name": "stdout",
     "output_type": "stream",
     "text": "Epoch 1/100\n8000/8000 [==============================] - 1s 98us/step - loss: 0.3434 - accuracy: 0.8608\nEpoch 2/100\n8000/8000 [==============================] - 1s 99us/step - loss: 0.3433 - accuracy: 0.8577\nEpoch 3/100\n8000/8000 [==============================] - 1s 95us/step - loss: 0.3430 - accuracy: 0.8604\nEpoch 4/100\n8000/8000 [==============================] - 1s 95us/step - loss: 0.3426 - accuracy: 0.8594\nEpoch 5/100\n8000/8000 [==============================] - 1s 95us/step - loss: 0.3428 - accuracy: 0.8601\nEpoch 6/100\n8000/8000 [==============================] - 1s 97us/step - loss: 0.3426 - accuracy: 0.8610\nEpoch 7/100\n8000/8000 [==============================] - 1s 97us/step - loss: 0.3424 - accuracy: 0.8591\nEpoch 8/100\n8000/8000 [==============================] - 1s 96us/step - loss: 0.3423 - accuracy: 0.8600\nEpoch 9/100\n8000/8000 [==============================] - 1s 96us/step - loss: 0.3422 - accuracy: 0.8596\nEpoch 10/100\n8000/8000 [==============================] - 1s 96us/step - loss: 0.3414 - accuracy: 0.8609\nEpoch 11/100\n8000/8000 [==============================] - 1s 97us/step - loss: 0.3413 - accuracy: 0.8606\nEpoch 12/100\n8000/8000 [==============================] - 1s 98us/step - loss: 0.3408 - accuracy: 0.8600\nEpoch 13/100\n8000/8000 [==============================] - 1s 96us/step - loss: 0.3411 - accuracy: 0.8604\nEpoch 14/100\n8000/8000 [==============================] - 1s 98us/step - loss: 0.3407 - accuracy: 0.8615\nEpoch 15/100\n8000/8000 [==============================] - 1s 106us/step - loss: 0.3406 - accuracy: 0.8614\nEpoch 16/100\n8000/8000 [==============================] - 1s 97us/step - loss: 0.3403 - accuracy: 0.8591\nEpoch 17/100\n8000/8000 [==============================] - 1s 102us/step - loss: 0.3397 - accuracy: 0.8619\nEpoch 18/100\n8000/8000 [==============================] - 1s 108us/step - loss: 0.3408 - accuracy: 0.8602\nEpoch 19/100\n8000/8000 [==============================] - 1s 103us/step - loss: 0.3398 - accuracy: 0.8606\nEpoch 20/100\n8000/8000 [==============================] - 1s 106us/step - loss: 0.3399 - accuracy: 0.8611\nEpoch 21/100\n8000/8000 [==============================] - 1s 104us/step - loss: 0.3383 - accuracy: 0.8619\nEpoch 22/100\n8000/8000 [==============================] - 1s 99us/step - loss: 0.3403 - accuracy: 0.8615\nEpoch 23/100\n8000/8000 [==============================] - 1s 100us/step - loss: 0.3399 - accuracy: 0.8600\nEpoch 24/100\n8000/8000 [==============================] - 1s 100us/step - loss: 0.3396 - accuracy: 0.8602\nEpoch 25/100\n8000/8000 [==============================] - 1s 101us/step - loss: 0.3396 - accuracy: 0.8605\nEpoch 26/100\n8000/8000 [==============================] - 1s 103us/step - loss: 0.3397 - accuracy: 0.8601\nEpoch 27/100\n8000/8000 [==============================] - 1s 108us/step - loss: 0.3402 - accuracy: 0.8618\nEpoch 28/100\n8000/8000 [==============================] - 1s 99us/step - loss: 0.3386 - accuracy: 0.8590\nEpoch 29/100\n8000/8000 [==============================] - 1s 94us/step - loss: 0.3390 - accuracy: 0.8618\nEpoch 30/100\n8000/8000 [==============================] - 1s 100us/step - loss: 0.3386 - accuracy: 0.8618\nEpoch 31/100\n8000/8000 [==============================] - 1s 97us/step - loss: 0.3399 - accuracy: 0.8596\nEpoch 32/100\n8000/8000 [==============================] - 1s 98us/step - loss: 0.3385 - accuracy: 0.8621\nEpoch 33/100\n8000/8000 [==============================] - 1s 99us/step - loss: 0.3399 - accuracy: 0.8600\nEpoch 34/100\n8000/8000 [==============================] - 1s 107us/step - loss: 0.3391 - accuracy: 0.8618\nEpoch 35/100\n8000/8000 [==============================] - 1s 104us/step - loss: 0.3385 - accuracy: 0.8610\nEpoch 36/100\n8000/8000 [==============================] - 1s 106us/step - loss: 0.3390 - accuracy: 0.8605\nEpoch 37/100\n8000/8000 [==============================] - 1s 113us/step - loss: 0.3382 - accuracy: 0.8605\nEpoch 38/100\n8000/8000 [==============================] - 1s 118us/step - loss: 0.3388 - accuracy: 0.8615\nEpoch 39/100\n8000/8000 [==============================] - 1s 105us/step - loss: 0.3388 - accuracy: 0.8636\nEpoch 40/100\n8000/8000 [==============================] - 1s 99us/step - loss: 0.3384 - accuracy: 0.8622\nEpoch 41/100\n8000/8000 [==============================] - 1s 95us/step - loss: 0.3392 - accuracy: 0.8618\nEpoch 42/100\n8000/8000 [==============================] - 1s 96us/step - loss: 0.3382 - accuracy: 0.8599\nEpoch 43/100\n8000/8000 [==============================] - 1s 99us/step - loss: 0.3381 - accuracy: 0.8595\nEpoch 44/100\n8000/8000 [==============================] - 1s 97us/step - loss: 0.3384 - accuracy: 0.8612\nEpoch 45/100\n8000/8000 [==============================] - 1s 106us/step - loss: 0.3378 - accuracy: 0.8610\nEpoch 46/100\n8000/8000 [==============================] - 1s 102us/step - loss: 0.3381 - accuracy: 0.8611\nEpoch 47/100\n8000/8000 [==============================] - 1s 98us/step - loss: 0.3384 - accuracy: 0.8618\nEpoch 48/100\n8000/8000 [==============================] - 1s 97us/step - loss: 0.3377 - accuracy: 0.8614\nEpoch 49/100\n8000/8000 [==============================] - 1s 96us/step - loss: 0.3388 - accuracy: 0.8597\nEpoch 50/100\n8000/8000 [==============================] - 1s 101us/step - loss: 0.3383 - accuracy: 0.8622\nEpoch 51/100\n8000/8000 [==============================] - 1s 95us/step - loss: 0.3374 - accuracy: 0.8609\nEpoch 52/100\n8000/8000 [==============================] - 1s 103us/step - loss: 0.3373 - accuracy: 0.8602\nEpoch 53/100\n8000/8000 [==============================] - 1s 96us/step - loss: 0.3375 - accuracy: 0.8610\nEpoch 54/100\n8000/8000 [==============================] - 1s 96us/step - loss: 0.3376 - accuracy: 0.8645\nEpoch 55/100\n8000/8000 [==============================] - 1s 94us/step - loss: 0.3380 - accuracy: 0.8604\nEpoch 56/100\n8000/8000 [==============================] - 1s 95us/step - loss: 0.3368 - accuracy: 0.8622\nEpoch 57/100\n8000/8000 [==============================] - 1s 96us/step - loss: 0.3380 - accuracy: 0.8616\nEpoch 58/100\n8000/8000 [==============================] - 1s 95us/step - loss: 0.3376 - accuracy: 0.8612\nEpoch 59/100\n8000/8000 [==============================] - 1s 93us/step - loss: 0.3365 - accuracy: 0.8605\nEpoch 60/100\n8000/8000 [==============================] - 1s 94us/step - loss: 0.3370 - accuracy: 0.8616\nEpoch 61/100\n8000/8000 [==============================] - 1s 94us/step - loss: 0.3371 - accuracy: 0.8615\nEpoch 62/100\n8000/8000 [==============================] - 1s 93us/step - loss: 0.3370 - accuracy: 0.8634\nEpoch 63/100\n8000/8000 [==============================] - 1s 96us/step - loss: 0.3368 - accuracy: 0.8614\nEpoch 64/100\n8000/8000 [==============================] - 1s 95us/step - loss: 0.3380 - accuracy: 0.8624\nEpoch 65/100\n8000/8000 [==============================] - 1s 96us/step - loss: 0.3368 - accuracy: 0.8616\nEpoch 66/100\n8000/8000 [==============================] - 1s 95us/step - loss: 0.3368 - accuracy: 0.8611\nEpoch 67/100\n8000/8000 [==============================] - 1s 98us/step - loss: 0.3375 - accuracy: 0.8602\nEpoch 68/100\n8000/8000 [==============================] - 1s 96us/step - loss: 0.3375 - accuracy: 0.8606\nEpoch 69/100\n8000/8000 [==============================] - 1s 96us/step - loss: 0.3367 - accuracy: 0.8597\nEpoch 70/100\n8000/8000 [==============================] - 1s 96us/step - loss: 0.3370 - accuracy: 0.8619\nEpoch 71/100\n8000/8000 [==============================] - 1s 97us/step - loss: 0.3370 - accuracy: 0.8620\nEpoch 72/100\n8000/8000 [==============================] - 1s 96us/step - loss: 0.3370 - accuracy: 0.8609\nEpoch 73/100\n8000/8000 [==============================] - 1s 97us/step - loss: 0.3369 - accuracy: 0.8609\nEpoch 74/100\n8000/8000 [==============================] - 1s 97us/step - loss: 0.3366 - accuracy: 0.8614\nEpoch 75/100\n8000/8000 [==============================] - 1s 97us/step - loss: 0.3361 - accuracy: 0.8602\nEpoch 76/100\n8000/8000 [==============================] - 1s 94us/step - loss: 0.3373 - accuracy: 0.8640\nEpoch 77/100\n8000/8000 [==============================] - 1s 96us/step - loss: 0.3367 - accuracy: 0.8624\nEpoch 78/100\n8000/8000 [==============================] - 1s 95us/step - loss: 0.3352 - accuracy: 0.8665\nEpoch 79/100\n8000/8000 [==============================] - 1s 95us/step - loss: 0.3358 - accuracy: 0.8639\nEpoch 80/100\n8000/8000 [==============================] - 1s 94us/step - loss: 0.3365 - accuracy: 0.8624\nEpoch 81/100\n8000/8000 [==============================] - 1s 95us/step - loss: 0.3370 - accuracy: 0.8616\nEpoch 82/100\n8000/8000 [==============================] - 1s 94us/step - loss: 0.3362 - accuracy: 0.8627\nEpoch 83/100\n8000/8000 [==============================] - 1s 95us/step - loss: 0.3366 - accuracy: 0.8604\nEpoch 84/100\n8000/8000 [==============================] - 1s 94us/step - loss: 0.3359 - accuracy: 0.8606\nEpoch 85/100\n8000/8000 [==============================] - 1s 95us/step - loss: 0.3360 - accuracy: 0.8610\nEpoch 86/100\n8000/8000 [==============================] - 1s 97us/step - loss: 0.3362 - accuracy: 0.8624\nEpoch 87/100\n8000/8000 [==============================] - 1s 96us/step - loss: 0.3358 - accuracy: 0.8609\nEpoch 88/100\n8000/8000 [==============================] - 1s 94us/step - loss: 0.3358 - accuracy: 0.8622\nEpoch 89/100\n8000/8000 [==============================] - 1s 94us/step - loss: 0.3358 - accuracy: 0.8621\nEpoch 90/100\n8000/8000 [==============================] - 1s 95us/step - loss: 0.3357 - accuracy: 0.8608\nEpoch 91/100\n8000/8000 [==============================] - 1s 94us/step - loss: 0.3352 - accuracy: 0.8616\nEpoch 92/100\n8000/8000 [==============================] - 1s 95us/step - loss: 0.3349 - accuracy: 0.8633\nEpoch 93/100\n8000/8000 [==============================] - 1s 94us/step - loss: 0.3359 - accuracy: 0.8597\nEpoch 94/100\n8000/8000 [==============================] - 1s 103us/step - loss: 0.3366 - accuracy: 0.8610\nEpoch 95/100\n8000/8000 [==============================] - 1s 97us/step - loss: 0.3359 - accuracy: 0.8605\nEpoch 96/100\n8000/8000 [==============================] - 1s 98us/step - loss: 0.3358 - accuracy: 0.8620\nEpoch 97/100\n8000/8000 [==============================] - 1s 97us/step - loss: 0.3357 - accuracy: 0.8615\nEpoch 98/100\n8000/8000 [==============================] - 1s 97us/step - loss: 0.3359 - accuracy: 0.8620\nEpoch 99/100\n8000/8000 [==============================] - 1s 98us/step - loss: 0.3347 - accuracy: 0.8599\nEpoch 100/100\n8000/8000 [==============================] - 1s 99us/step - loss: 0.3357 - accuracy: 0.8597\n"
    },
    {
     "data": {
      "text/plain": "<keras.callbacks.callbacks.History at 0x7f96505af160>"
     },
     "execution_count": 26,
     "metadata": {},
     "output_type": "execute_result"
    }
   ],
   "source": [
    "classifier.fit(x=X_train, y=y_train, batch_size=10, epochs=100)"
   ]
  },
  {
   "cell_type": "code",
   "execution_count": 30,
   "metadata": {},
   "outputs": [],
   "source": [
    "y_pred = classifier.predict(X_test)\n",
    "y_pred = (y_pred > 0.5)"
   ]
  },
  {
   "cell_type": "code",
   "execution_count": 33,
   "metadata": {},
   "outputs": [
    {
     "data": {
      "text/plain": "0.8625"
     },
     "execution_count": 33,
     "metadata": {},
     "output_type": "execute_result"
    }
   ],
   "source": [
    "from sklearn.metrics import confusion_matrix\n",
    "cm = confusion_matrix(y_test, y_pred)\n",
    "cm\n",
    "accuracy = (1504 + 221)/2000\n",
    "accuracy"
   ]
  }
 ],
 "metadata": {
  "kernelspec": {
   "display_name": "Python 3",
   "language": "python",
   "name": "python3"
  },
  "language_info": {
   "codemirror_mode": {
    "name": "ipython",
    "version": 3
   },
   "file_extension": ".py",
   "mimetype": "text/x-python",
   "name": "python",
   "nbconvert_exporter": "python",
   "pygments_lexer": "ipython3",
   "version": "3.6.8-final"
  }
 },
 "nbformat": 4,
 "nbformat_minor": 2
}