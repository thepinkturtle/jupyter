{
 "cells": [
  {
   "cell_type": "code",
   "execution_count": null,
   "metadata": {},
   "outputs": [],
   "source": []
  },
  {
   "cell_type": "code",
   "execution_count": 1,
   "metadata": {},
   "outputs": [],
   "source": [
    "import numpy as np\n",
    "import matplotlib.pyplot as plt\n",
    "import os\n",
    "import pandas as pd\n",
    "from sklearn.impute import SimpleImputer\n",
    "\n",
    "dataset = pd.read_csv(os.getcwd()+'/Churn_Modelling.csv')\n",
    "\n",
    "X = dataset.iloc[:,3:-1].values\n",
    "y = dataset.iloc[:,-1].values"
   ]
  },
  {
   "cell_type": "code",
   "execution_count": 2,
   "metadata": {},
   "outputs": [],
   "source": [
    "# Encoding categorical data\n",
    "from sklearn.preprocessing import OneHotEncoder\n",
    "from sklearn.compose import ColumnTransformer\n",
    "\n",
    "ct = ColumnTransformer([('encoder', OneHotEncoder(), [1,2])], remainder='passthrough')\n",
    "ct_country_gender = np.array(ct.fit_transform(X)[:,[1,2,3]], dtype=np.float)\n",
    "X = np.hstack((ct_country_gender[:, :2], X[:, [0]], ct_country_gender[:, [2]], X[:, 3:]))\n"
   ]
  },
  {
   "cell_type": "code",
   "execution_count": 3,
   "metadata": {},
   "outputs": [],
   "source": [
    "# Splitting the dataset into the Training set and Test set\n",
    "from sklearn.model_selection import train_test_split\n",
    "X_train, X_test, y_train, y_test = train_test_split(X, y, test_size = 0.2, random_state = 0)"
   ]
  },
  {
   "cell_type": "code",
   "execution_count": 4,
   "metadata": {},
   "outputs": [],
   "source": [
    "# Feature Scaling\n",
    "from sklearn.preprocessing import StandardScaler\n",
    "sc_x = StandardScaler()\n",
    "X_train = sc_x.fit_transform(X_train)\n",
    "X_test = sc_x.transform(X_test)"
   ]
  },
  {
   "cell_type": "code",
   "execution_count": 6,
   "metadata": {},
   "outputs": [],
   "source": [
    "import keras\n",
    "from keras.models import Sequential\n",
    "from keras.layers import Dense"
   ]
  },
  {
   "cell_type": "code",
   "execution_count": 48,
   "metadata": {},
   "outputs": [],
   "source": [
    "classifier = Sequential()\n",
    "classifier.add(Dense(output_dim=6, init='uniform', activation='relu', input_dim=11)) # input layer\n",
    "classifier.add(Dense(output_dim=6, init='uniform', activation='relu'))               # hidden layer\n",
    "classifier.add(Dense(output_dim=1, init='uniform', activation='sigmoid'))            # output layer\n",
    "classifier.compile(optimizer='adam', loss='binary_crossentropy',metrics=['accuracy'])# create the NN"
   ]
  },
  {
   "cell_type": "code",
   "execution_count": 50,
   "metadata": {},
   "outputs": [
    {
     "output_type": "stream",
     "name": "stdout",
     "text": "Epoch 1/400\n8000/8000 [==============================] - 1s 109us/step - loss: 0.4017 - accuracy: 0.8336\nEpoch 2/400\n8000/8000 [==============================] - 1s 109us/step - loss: 0.4009 - accuracy: 0.8346\nEpoch 3/400\n8000/8000 [==============================] - 1s 105us/step - loss: 0.4001 - accuracy: 0.8346\nEpoch 4/400\n8000/8000 [==============================] - 1s 105us/step - loss: 0.4006 - accuracy: 0.8335\nEpoch 5/400\n8000/8000 [==============================] - 1s 110us/step - loss: 0.4001 - accuracy: 0.8357\nEpoch 6/400\n8000/8000 [==============================] - 1s 105us/step - loss: 0.4007 - accuracy: 0.8342\nEpoch 7/400\n8000/8000 [==============================] - 1s 104us/step - loss: 0.4005 - accuracy: 0.8353\nEpoch 8/400\n8000/8000 [==============================] - 1s 105us/step - loss: 0.4007 - accuracy: 0.8353\nEpoch 9/400\n8000/8000 [==============================] - 1s 107us/step - loss: 0.4007 - accuracy: 0.8345\nEpoch 10/400\n8000/8000 [==============================] - 1s 107us/step - loss: 0.4004 - accuracy: 0.8346\nEpoch 11/400\n8000/8000 [==============================] - 1s 107us/step - loss: 0.4005 - accuracy: 0.8338\nEpoch 12/400\n8000/8000 [==============================] - 1s 107us/step - loss: 0.4008 - accuracy: 0.8360\nEpoch 13/400\n8000/8000 [==============================] - 1s 105us/step - loss: 0.4000 - accuracy: 0.8344\nEpoch 14/400\n8000/8000 [==============================] - 1s 108us/step - loss: 0.4003 - accuracy: 0.8349\nEpoch 15/400\n8000/8000 [==============================] - 1s 111us/step - loss: 0.4002 - accuracy: 0.8355\nEpoch 16/400\n8000/8000 [==============================] - 1s 111us/step - loss: 0.4007 - accuracy: 0.8353\nEpoch 17/400\n8000/8000 [==============================] - 1s 107us/step - loss: 0.3997 - accuracy: 0.8359\nEpoch 18/400\n8000/8000 [==============================] - 1s 109us/step - loss: 0.4007 - accuracy: 0.8332\nEpoch 19/400\n8000/8000 [==============================] - 1s 110us/step - loss: 0.4009 - accuracy: 0.8344\nEpoch 20/400\n8000/8000 [==============================] - 1s 111us/step - loss: 0.4001 - accuracy: 0.8365\nEpoch 21/400\n8000/8000 [==============================] - 1s 118us/step - loss: 0.4000 - accuracy: 0.8335\nEpoch 22/400\n8000/8000 [==============================] - 1s 116us/step - loss: 0.4008 - accuracy: 0.8340\nEpoch 23/400\n8000/8000 [==============================] - 1s 111us/step - loss: 0.4002 - accuracy: 0.8345\nEpoch 24/400\n8000/8000 [==============================] - 1s 109us/step - loss: 0.4001 - accuracy: 0.8367\nEpoch 25/400\n8000/8000 [==============================] - 1s 110us/step - loss: 0.3999 - accuracy: 0.8359\nEpoch 26/400\n8000/8000 [==============================] - 1s 109us/step - loss: 0.4005 - accuracy: 0.8359\nEpoch 27/400\n8000/8000 [==============================] - 1s 110us/step - loss: 0.4002 - accuracy: 0.8325\nEpoch 28/400\n8000/8000 [==============================] - 1s 105us/step - loss: 0.4008 - accuracy: 0.8361\nEpoch 29/400\n8000/8000 [==============================] - 1s 115us/step - loss: 0.4006 - accuracy: 0.8363\nEpoch 30/400\n8000/8000 [==============================] - 1s 106us/step - loss: 0.4003 - accuracy: 0.8345\nEpoch 31/400\n8000/8000 [==============================] - 1s 117us/step - loss: 0.3997 - accuracy: 0.8346\nEpoch 32/400\n8000/8000 [==============================] - 1s 112us/step - loss: 0.4006 - accuracy: 0.8346\nEpoch 33/400\n8000/8000 [==============================] - 1s 109us/step - loss: 0.4000 - accuracy: 0.8355\nEpoch 34/400\n8000/8000 [==============================] - 1s 108us/step - loss: 0.4008 - accuracy: 0.8341\nEpoch 35/400\n8000/8000 [==============================] - 1s 114us/step - loss: 0.4008 - accuracy: 0.8341\nEpoch 36/400\n8000/8000 [==============================] - 1s 113us/step - loss: 0.4006 - accuracy: 0.8354\nEpoch 37/400\n8000/8000 [==============================] - 1s 110us/step - loss: 0.4003 - accuracy: 0.8356\nEpoch 38/400\n8000/8000 [==============================] - 1s 108us/step - loss: 0.4005 - accuracy: 0.8345\nEpoch 39/400\n8000/8000 [==============================] - 1s 108us/step - loss: 0.4003 - accuracy: 0.8370\nEpoch 40/400\n8000/8000 [==============================] - 1s 109us/step - loss: 0.4005 - accuracy: 0.8340\nEpoch 41/400\n8000/8000 [==============================] - 1s 110us/step - loss: 0.4000 - accuracy: 0.8336\nEpoch 42/400\n8000/8000 [==============================] - 1s 109us/step - loss: 0.4003 - accuracy: 0.8350\nEpoch 43/400\n8000/8000 [==============================] - 1s 112us/step - loss: 0.4007 - accuracy: 0.8350\nEpoch 44/400\n8000/8000 [==============================] - 1s 110us/step - loss: 0.3998 - accuracy: 0.8340\nEpoch 45/400\n8000/8000 [==============================] - 1s 107us/step - loss: 0.4004 - accuracy: 0.8367\nEpoch 46/400\n8000/8000 [==============================] - 1s 110us/step - loss: 0.4000 - accuracy: 0.8347\nEpoch 47/400\n8000/8000 [==============================] - 1s 106us/step - loss: 0.3997 - accuracy: 0.8346\nEpoch 48/400\n8000/8000 [==============================] - 1s 112us/step - loss: 0.4000 - accuracy: 0.8334\nEpoch 49/400\n8000/8000 [==============================] - 1s 107us/step - loss: 0.4009 - accuracy: 0.8349\nEpoch 50/400\n8000/8000 [==============================] - 1s 110us/step - loss: 0.4004 - accuracy: 0.8359\nEpoch 51/400\n8000/8000 [==============================] - 1s 111us/step - loss: 0.3999 - accuracy: 0.8342\nEpoch 52/400\n8000/8000 [==============================] - 1s 111us/step - loss: 0.4000 - accuracy: 0.8338\nEpoch 53/400\n8000/8000 [==============================] - 1s 109us/step - loss: 0.4005 - accuracy: 0.8351\nEpoch 54/400\n8000/8000 [==============================] - 1s 109us/step - loss: 0.4003 - accuracy: 0.8350\nEpoch 55/400\n8000/8000 [==============================] - 1s 108us/step - loss: 0.4007 - accuracy: 0.8345\nEpoch 56/400\n8000/8000 [==============================] - 1s 108us/step - loss: 0.4000 - accuracy: 0.8360\nEpoch 57/400\n8000/8000 [==============================] - 1s 107us/step - loss: 0.3998 - accuracy: 0.8351\nEpoch 58/400\n8000/8000 [==============================] - 1s 107us/step - loss: 0.4000 - accuracy: 0.8349\nEpoch 59/400\n8000/8000 [==============================] - 1s 107us/step - loss: 0.3999 - accuracy: 0.8338\nEpoch 60/400\n8000/8000 [==============================] - 1s 112us/step - loss: 0.4002 - accuracy: 0.8350\nEpoch 61/400\n8000/8000 [==============================] - 1s 109us/step - loss: 0.4002 - accuracy: 0.8360\nEpoch 62/400\n8000/8000 [==============================] - 1s 107us/step - loss: 0.3995 - accuracy: 0.8339\nEpoch 63/400\n8000/8000 [==============================] - 1s 109us/step - loss: 0.4000 - accuracy: 0.8339\nEpoch 64/400\n8000/8000 [==============================] - 1s 107us/step - loss: 0.4007 - accuracy: 0.8332\nEpoch 65/400\n8000/8000 [==============================] - 1s 107us/step - loss: 0.4004 - accuracy: 0.8346\nEpoch 66/400\n8000/8000 [==============================] - 1s 108us/step - loss: 0.4001 - accuracy: 0.8349\nEpoch 67/400\n8000/8000 [==============================] - 1s 105us/step - loss: 0.4002 - accuracy: 0.8360\nEpoch 68/400\n8000/8000 [==============================] - 1s 106us/step - loss: 0.4007 - accuracy: 0.8341\nEpoch 69/400\n8000/8000 [==============================] - 1s 107us/step - loss: 0.3994 - accuracy: 0.8347\nEpoch 70/400\n8000/8000 [==============================] - 1s 113us/step - loss: 0.4000 - accuracy: 0.8360\nEpoch 71/400\n8000/8000 [==============================] - 1s 111us/step - loss: 0.4003 - accuracy: 0.8349\nEpoch 72/400\n8000/8000 [==============================] - 1s 106us/step - loss: 0.4001 - accuracy: 0.8355\nEpoch 73/400\n8000/8000 [==============================] - 1s 107us/step - loss: 0.4003 - accuracy: 0.8353\nEpoch 74/400\n8000/8000 [==============================] - 1s 107us/step - loss: 0.4000 - accuracy: 0.8351\nEpoch 75/400\n8000/8000 [==============================] - 1s 107us/step - loss: 0.4003 - accuracy: 0.8339\nEpoch 76/400\n8000/8000 [==============================] - 1s 108us/step - loss: 0.4002 - accuracy: 0.8351\nEpoch 77/400\n8000/8000 [==============================] - 1s 110us/step - loss: 0.4004 - accuracy: 0.8363\nEpoch 78/400\n8000/8000 [==============================] - 1s 110us/step - loss: 0.4007 - accuracy: 0.8339\nEpoch 79/400\n8000/8000 [==============================] - 1s 108us/step - loss: 0.4001 - accuracy: 0.8335\nEpoch 80/400\n8000/8000 [==============================] - 1s 109us/step - loss: 0.4004 - accuracy: 0.8351\nEpoch 81/400\n8000/8000 [==============================] - 1s 108us/step - loss: 0.4007 - accuracy: 0.8346\nEpoch 82/400\n8000/8000 [==============================] - 1s 109us/step - loss: 0.4001 - accuracy: 0.8331\nEpoch 83/400\n8000/8000 [==============================] - 1s 109us/step - loss: 0.4003 - accuracy: 0.8356\nEpoch 84/400\n8000/8000 [==============================] - 1s 110us/step - loss: 0.4000 - accuracy: 0.8363\nEpoch 85/400\n8000/8000 [==============================] - 1s 108us/step - loss: 0.3997 - accuracy: 0.8357\nEpoch 86/400\n8000/8000 [==============================] - 1s 108us/step - loss: 0.4000 - accuracy: 0.8339\nEpoch 87/400\n8000/8000 [==============================] - 1s 107us/step - loss: 0.4006 - accuracy: 0.8350\nEpoch 88/400\n8000/8000 [==============================] - 1s 108us/step - loss: 0.4003 - accuracy: 0.8350\nEpoch 89/400\n8000/8000 [==============================] - 1s 108us/step - loss: 0.4002 - accuracy: 0.8336\nEpoch 90/400\n8000/8000 [==============================] - 1s 116us/step - loss: 0.4000 - accuracy: 0.8349\nEpoch 91/400\n8000/8000 [==============================] - 1s 109us/step - loss: 0.4005 - accuracy: 0.8349\nEpoch 92/400\n8000/8000 [==============================] - 1s 112us/step - loss: 0.4000 - accuracy: 0.8347\nEpoch 93/400\n8000/8000 [==============================] - 1s 109us/step - loss: 0.4000 - accuracy: 0.8351\nEpoch 94/400\n8000/8000 [==============================] - 1s 114us/step - loss: 0.3999 - accuracy: 0.8331\nEpoch 95/400\n8000/8000 [==============================] - 1s 113us/step - loss: 0.4000 - accuracy: 0.8361\nEpoch 96/400\n8000/8000 [==============================] - 1s 110us/step - loss: 0.3999 - accuracy: 0.8354\nEpoch 97/400\n8000/8000 [==============================] - 1s 108us/step - loss: 0.3998 - accuracy: 0.8357\nEpoch 98/400\n8000/8000 [==============================] - 1s 108us/step - loss: 0.4002 - accuracy: 0.8344\nEpoch 99/400\n8000/8000 [==============================] - 1s 106us/step - loss: 0.3998 - accuracy: 0.8349\nEpoch 100/400\n8000/8000 [==============================] - 1s 109us/step - loss: 0.4000 - accuracy: 0.8342\nEpoch 101/400\n8000/8000 [==============================] - 1s 113us/step - loss: 0.3998 - accuracy: 0.8350\nEpoch 102/400\n8000/8000 [==============================] - 1s 110us/step - loss: 0.4000 - accuracy: 0.8355\nEpoch 103/400\n8000/8000 [==============================] - 1s 108us/step - loss: 0.4001 - accuracy: 0.8365\nEpoch 104/400\n8000/8000 [==============================] - 1s 112us/step - loss: 0.4002 - accuracy: 0.8340\nEpoch 105/400\n8000/8000 [==============================] - 1s 112us/step - loss: 0.4005 - accuracy: 0.8350\nEpoch 106/400\n8000/8000 [==============================] - 1s 111us/step - loss: 0.3996 - accuracy: 0.8353\nEpoch 107/400\n8000/8000 [==============================] - 1s 111us/step - loss: 0.3999 - accuracy: 0.8338\nEpoch 108/400\n8000/8000 [==============================] - 1s 112us/step - loss: 0.4003 - accuracy: 0.8351\nEpoch 109/400\n8000/8000 [==============================] - 1s 108us/step - loss: 0.4003 - accuracy: 0.8342\nEpoch 110/400\n8000/8000 [==============================] - 1s 108us/step - loss: 0.4003 - accuracy: 0.8350\nEpoch 111/400\n8000/8000 [==============================] - 1s 108us/step - loss: 0.4006 - accuracy: 0.8349\nEpoch 112/400\n8000/8000 [==============================] - 1s 109us/step - loss: 0.3998 - accuracy: 0.8353\nEpoch 113/400\n8000/8000 [==============================] - 1s 108us/step - loss: 0.3999 - accuracy: 0.8357\nEpoch 114/400\n8000/8000 [==============================] - 1s 109us/step - loss: 0.3999 - accuracy: 0.8354\nEpoch 115/400\n8000/8000 [==============================] - 1s 109us/step - loss: 0.4000 - accuracy: 0.8345\nEpoch 116/400\n8000/8000 [==============================] - 1s 109us/step - loss: 0.3995 - accuracy: 0.8347\nEpoch 117/400\n8000/8000 [==============================] - 1s 109us/step - loss: 0.3994 - accuracy: 0.8364\nEpoch 118/400\n8000/8000 [==============================] - 1s 108us/step - loss: 0.4003 - accuracy: 0.8351\nEpoch 119/400\n8000/8000 [==============================] - 1s 111us/step - loss: 0.4000 - accuracy: 0.8361\nEpoch 120/400\n8000/8000 [==============================] - 1s 114us/step - loss: 0.3997 - accuracy: 0.8346\nEpoch 121/400\n8000/8000 [==============================] - 1s 112us/step - loss: 0.3997 - accuracy: 0.8353\nEpoch 122/400\n8000/8000 [==============================] - 1s 106us/step - loss: 0.4001 - accuracy: 0.8345\nEpoch 123/400\n8000/8000 [==============================] - 1s 107us/step - loss: 0.4000 - accuracy: 0.8359\nEpoch 124/400\n8000/8000 [==============================] - 1s 106us/step - loss: 0.3997 - accuracy: 0.8345\nEpoch 125/400\n8000/8000 [==============================] - 1s 107us/step - loss: 0.4001 - accuracy: 0.8346\nEpoch 126/400\n8000/8000 [==============================] - 1s 113us/step - loss: 0.4005 - accuracy: 0.8357\nEpoch 127/400\n8000/8000 [==============================] - 1s 111us/step - loss: 0.4001 - accuracy: 0.8349\nEpoch 128/400\n8000/8000 [==============================] - 1s 112us/step - loss: 0.3998 - accuracy: 0.8340\nEpoch 129/400\n8000/8000 [==============================] - 1s 112us/step - loss: 0.3998 - accuracy: 0.8354\nEpoch 130/400\n8000/8000 [==============================] - 1s 110us/step - loss: 0.3999 - accuracy: 0.8351\nEpoch 131/400\n8000/8000 [==============================] - 1s 112us/step - loss: 0.4001 - accuracy: 0.8355\nEpoch 132/400\n8000/8000 [==============================] - 1s 109us/step - loss: 0.4001 - accuracy: 0.8345\nEpoch 133/400\n8000/8000 [==============================] - 1s 111us/step - loss: 0.3997 - accuracy: 0.8341\nEpoch 134/400\n8000/8000 [==============================] - 1s 111us/step - loss: 0.3998 - accuracy: 0.8346\nEpoch 135/400\n8000/8000 [==============================] - 1s 108us/step - loss: 0.4000 - accuracy: 0.8351\nEpoch 136/400\n8000/8000 [==============================] - 1s 109us/step - loss: 0.4002 - accuracy: 0.8331\nEpoch 137/400\n8000/8000 [==============================] - 1s 110us/step - loss: 0.4002 - accuracy: 0.8355\nEpoch 138/400\n8000/8000 [==============================] - 1s 128us/step - loss: 0.3995 - accuracy: 0.8340\nEpoch 139/400\n8000/8000 [==============================] - 1s 109us/step - loss: 0.3999 - accuracy: 0.8334\nEpoch 140/400\n8000/8000 [==============================] - 1s 110us/step - loss: 0.3996 - accuracy: 0.8341\nEpoch 141/400\n8000/8000 [==============================] - 1s 112us/step - loss: 0.4002 - accuracy: 0.8374\nEpoch 142/400\n8000/8000 [==============================] - 1s 108us/step - loss: 0.3998 - accuracy: 0.8356\nEpoch 143/400\n8000/8000 [==============================] - 1s 114us/step - loss: 0.3999 - accuracy: 0.8341\nEpoch 144/400\n8000/8000 [==============================] - 1s 115us/step - loss: 0.4006 - accuracy: 0.8340\nEpoch 145/400\n8000/8000 [==============================] - 1s 111us/step - loss: 0.3993 - accuracy: 0.8339\nEpoch 146/400\n4900/8000 [=================>............] - ETA: 0s - loss: 0.3976 - accuracy: 0.8365"
    },
    {
     "output_type": "error",
     "ename": "KeyboardInterrupt",
     "evalue": "",
     "traceback": [
      "\u001b[0;31m---------------------------------------------------------------------------\u001b[0m",
      "\u001b[0;31mKeyboardInterrupt\u001b[0m                         Traceback (most recent call last)",
      "\u001b[0;32m<ipython-input-50-6e82fb73eddf>\u001b[0m in \u001b[0;36m<module>\u001b[0;34m\u001b[0m\n\u001b[0;32m----> 1\u001b[0;31m \u001b[0mclassifier\u001b[0m\u001b[0;34m.\u001b[0m\u001b[0mfit\u001b[0m\u001b[0;34m(\u001b[0m\u001b[0mx\u001b[0m\u001b[0;34m=\u001b[0m\u001b[0mX_train\u001b[0m\u001b[0;34m,\u001b[0m \u001b[0my\u001b[0m\u001b[0;34m=\u001b[0m\u001b[0my_train\u001b[0m\u001b[0;34m,\u001b[0m \u001b[0mbatch_size\u001b[0m\u001b[0;34m=\u001b[0m\u001b[0;36m10\u001b[0m\u001b[0;34m,\u001b[0m \u001b[0mepochs\u001b[0m\u001b[0;34m=\u001b[0m\u001b[0;36m400\u001b[0m\u001b[0;34m)\u001b[0m\u001b[0;34m\u001b[0m\u001b[0;34m\u001b[0m\u001b[0m\n\u001b[0m",
      "\u001b[0;32m~/.local/lib/python3.6/site-packages/keras/engine/training.py\u001b[0m in \u001b[0;36mfit\u001b[0;34m(self, x, y, batch_size, epochs, verbose, callbacks, validation_split, validation_data, shuffle, class_weight, sample_weight, initial_epoch, steps_per_epoch, validation_steps, validation_freq, max_queue_size, workers, use_multiprocessing, **kwargs)\u001b[0m\n\u001b[1;32m   1237\u001b[0m                                         \u001b[0msteps_per_epoch\u001b[0m\u001b[0;34m=\u001b[0m\u001b[0msteps_per_epoch\u001b[0m\u001b[0;34m,\u001b[0m\u001b[0;34m\u001b[0m\u001b[0;34m\u001b[0m\u001b[0m\n\u001b[1;32m   1238\u001b[0m                                         \u001b[0mvalidation_steps\u001b[0m\u001b[0;34m=\u001b[0m\u001b[0mvalidation_steps\u001b[0m\u001b[0;34m,\u001b[0m\u001b[0;34m\u001b[0m\u001b[0;34m\u001b[0m\u001b[0m\n\u001b[0;32m-> 1239\u001b[0;31m                                         validation_freq=validation_freq)\n\u001b[0m\u001b[1;32m   1240\u001b[0m \u001b[0;34m\u001b[0m\u001b[0m\n\u001b[1;32m   1241\u001b[0m     def evaluate(self,\n",
      "\u001b[0;32m~/.local/lib/python3.6/site-packages/keras/engine/training_arrays.py\u001b[0m in \u001b[0;36mfit_loop\u001b[0;34m(model, fit_function, fit_inputs, out_labels, batch_size, epochs, verbose, callbacks, val_function, val_inputs, shuffle, initial_epoch, steps_per_epoch, validation_steps, validation_freq)\u001b[0m\n\u001b[1;32m    194\u001b[0m                     \u001b[0mins_batch\u001b[0m\u001b[0;34m[\u001b[0m\u001b[0mi\u001b[0m\u001b[0;34m]\u001b[0m \u001b[0;34m=\u001b[0m \u001b[0mins_batch\u001b[0m\u001b[0;34m[\u001b[0m\u001b[0mi\u001b[0m\u001b[0;34m]\u001b[0m\u001b[0;34m.\u001b[0m\u001b[0mtoarray\u001b[0m\u001b[0;34m(\u001b[0m\u001b[0;34m)\u001b[0m\u001b[0;34m\u001b[0m\u001b[0;34m\u001b[0m\u001b[0m\n\u001b[1;32m    195\u001b[0m \u001b[0;34m\u001b[0m\u001b[0m\n\u001b[0;32m--> 196\u001b[0;31m                 \u001b[0mouts\u001b[0m \u001b[0;34m=\u001b[0m \u001b[0mfit_function\u001b[0m\u001b[0;34m(\u001b[0m\u001b[0mins_batch\u001b[0m\u001b[0;34m)\u001b[0m\u001b[0;34m\u001b[0m\u001b[0;34m\u001b[0m\u001b[0m\n\u001b[0m\u001b[1;32m    197\u001b[0m                 \u001b[0mouts\u001b[0m \u001b[0;34m=\u001b[0m \u001b[0mto_list\u001b[0m\u001b[0;34m(\u001b[0m\u001b[0mouts\u001b[0m\u001b[0;34m)\u001b[0m\u001b[0;34m\u001b[0m\u001b[0;34m\u001b[0m\u001b[0m\n\u001b[1;32m    198\u001b[0m                 \u001b[0;32mfor\u001b[0m \u001b[0ml\u001b[0m\u001b[0;34m,\u001b[0m \u001b[0mo\u001b[0m \u001b[0;32min\u001b[0m \u001b[0mzip\u001b[0m\u001b[0;34m(\u001b[0m\u001b[0mout_labels\u001b[0m\u001b[0;34m,\u001b[0m \u001b[0mouts\u001b[0m\u001b[0;34m)\u001b[0m\u001b[0;34m:\u001b[0m\u001b[0;34m\u001b[0m\u001b[0;34m\u001b[0m\u001b[0m\n",
      "\u001b[0;32m~/.local/lib/python3.6/site-packages/tensorflow/python/keras/backend.py\u001b[0m in \u001b[0;36m__call__\u001b[0;34m(self, inputs)\u001b[0m\n\u001b[1;32m   3290\u001b[0m \u001b[0;34m\u001b[0m\u001b[0m\n\u001b[1;32m   3291\u001b[0m     fetched = self._callable_fn(*array_vals,\n\u001b[0;32m-> 3292\u001b[0;31m                                 run_metadata=self.run_metadata)\n\u001b[0m\u001b[1;32m   3293\u001b[0m     \u001b[0mself\u001b[0m\u001b[0;34m.\u001b[0m\u001b[0m_call_fetch_callbacks\u001b[0m\u001b[0;34m(\u001b[0m\u001b[0mfetched\u001b[0m\u001b[0;34m[\u001b[0m\u001b[0;34m-\u001b[0m\u001b[0mlen\u001b[0m\u001b[0;34m(\u001b[0m\u001b[0mself\u001b[0m\u001b[0;34m.\u001b[0m\u001b[0m_fetches\u001b[0m\u001b[0;34m)\u001b[0m\u001b[0;34m:\u001b[0m\u001b[0;34m]\u001b[0m\u001b[0;34m)\u001b[0m\u001b[0;34m\u001b[0m\u001b[0;34m\u001b[0m\u001b[0m\n\u001b[1;32m   3294\u001b[0m     output_structure = nest.pack_sequence_as(\n",
      "\u001b[0;32m~/.local/lib/python3.6/site-packages/tensorflow/python/client/session.py\u001b[0m in \u001b[0;36m__call__\u001b[0;34m(self, *args, **kwargs)\u001b[0m\n\u001b[1;32m   1456\u001b[0m         ret = tf_session.TF_SessionRunCallable(self._session._session,\n\u001b[1;32m   1457\u001b[0m                                                \u001b[0mself\u001b[0m\u001b[0;34m.\u001b[0m\u001b[0m_handle\u001b[0m\u001b[0;34m,\u001b[0m \u001b[0margs\u001b[0m\u001b[0;34m,\u001b[0m\u001b[0;34m\u001b[0m\u001b[0;34m\u001b[0m\u001b[0m\n\u001b[0;32m-> 1458\u001b[0;31m                                                run_metadata_ptr)\n\u001b[0m\u001b[1;32m   1459\u001b[0m         \u001b[0;32mif\u001b[0m \u001b[0mrun_metadata\u001b[0m\u001b[0;34m:\u001b[0m\u001b[0;34m\u001b[0m\u001b[0;34m\u001b[0m\u001b[0m\n\u001b[1;32m   1460\u001b[0m           \u001b[0mproto_data\u001b[0m \u001b[0;34m=\u001b[0m \u001b[0mtf_session\u001b[0m\u001b[0;34m.\u001b[0m\u001b[0mTF_GetBuffer\u001b[0m\u001b[0;34m(\u001b[0m\u001b[0mrun_metadata_ptr\u001b[0m\u001b[0;34m)\u001b[0m\u001b[0;34m\u001b[0m\u001b[0;34m\u001b[0m\u001b[0m\n",
      "\u001b[0;31mKeyboardInterrupt\u001b[0m: "
     ]
    }
   ],
   "source": [
    "classifier.fit(x=X_train, y=y_train, batch_size=10, epochs=100)"
   ]
  },
  {
   "cell_type": "code",
   "execution_count": 38,
   "metadata": {},
   "outputs": [],
   "source": [
    "y_pred = classifier.predict(X_test)\n",
    "y_pred = (y_pred > 0.5)"
   ]
  },
  {
   "cell_type": "code",
   "execution_count": 41,
   "metadata": {},
   "outputs": [
    {
     "output_type": "execute_result",
     "data": {
      "text/plain": "0.86"
     },
     "metadata": {},
     "execution_count": 41
    }
   ],
   "source": [
    "from sklearn.metrics import confusion_matrix\n",
    "cm = confusion_matrix(y_test, y_pred)\n",
    "cm\n",
    "accuracy = (1499 + 221)/2000\n",
    "accuracy"
   ]
  }
 ],
 "metadata": {
  "kernelspec": {
   "display_name": "Python 3",
   "language": "python",
   "name": "python3"
  },
  "language_info": {
   "codemirror_mode": {
    "name": "ipython",
    "version": 3
   },
   "file_extension": ".py",
   "mimetype": "text/x-python",
   "name": "python",
   "nbconvert_exporter": "python",
   "pygments_lexer": "ipython3",
   "version": "3.6.8-final"
  }
 },
 "nbformat": 4,
 "nbformat_minor": 2
}